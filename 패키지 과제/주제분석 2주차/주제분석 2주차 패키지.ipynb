{
 "cells": [
  {
   "cell_type": "markdown",
   "metadata": {},
   "source": [
    "# 21-01 주제분석 2주차 패키지"
   ]
  },
  {
   "cell_type": "markdown",
   "metadata": {},
   "source": [
    "- 주제분석 2주차 분석 툴은 Python/R 둘 다 가능합니다. \n",
    "    - 1-3주차 패키지 문제의 조건 및 힌트는 Python을 기준으로 하지만, R을 사용해도 무방합니다.\n",
    "    - 다만 2/3주차의 머신러닝/딥러닝 모듈을 편하게 사용하기 위해서는 Python이 더 편할겁니다.\n",
    "\n",
    "- 제출형식은 pdf/html/doc/ppt 등 발표가 가능하면 괜찮습니다. 하지만 html로 주시면 가장 감사합니다.\n",
    "\n",
    "- 패키지 과제 발표는 세미나 쉬는시간 이후에 하게 되며, 역시 랜덤으로 5시00분에 발표됩니다.\n",
    "\n",
    "- 제출기한은 목요일 자정까지이며 지각시 벌금 5000원이 있습니다. 미제출 시 만원입니다. \n",
    "    - 패키지 2회 무단 미제출 시 퇴출이니 유의해 주세요."
   ]
  },
  {
   "cell_type": "code",
   "execution_count": 1,
   "metadata": {},
   "outputs": [],
   "source": [
    "import pandas as pd \n",
    "import numpy as np"
   ]
  },
  {
   "cell_type": "markdown",
   "metadata": {},
   "source": [
    "- 이번주에 다룰 내용은 test_set분리/릿지회귀/LGBM입니다.\n",
    "- 더불어서 다뤄지지는 내용은 data leakage 방지(test set 사용하지 않기), 하이퍼 파라미터 튜닝 방법입니다.\n",
    "- 최대한 생각할 수 있는 여지들을 넣으려고 했습니다.\n",
    "    - 데이터분석을 할 때 언제나 고민하고 생각하면서 해야 불필요한 삽질을 안할 수 있습니다.\n",
    "    - 더불어서 주제분석/공모전 때 중요한건 fancy한 모델을 썼느냐 아니냐보다 논리와 결과에 대한 해석입니다."
   ]
  },
  {
   "cell_type": "markdown",
   "metadata": {},
   "source": [
    "## 1. 데이터 분할"
   ]
  },
  {
   "cell_type": "markdown",
   "metadata": {},
   "source": [
    "### 1.1 데이터 불러오기\n",
    "\n",
    "`trian.csv`와 `test.csv`를 불러오세요.\n",
    "\n",
    "- train은 `transaction_year`가 5 미만인 경우,\n",
    "- test는  `transaction_year`가 5인 경우"
   ]
  },
  {
   "cell_type": "code",
   "execution_count": 2,
   "metadata": {},
   "outputs": [],
   "source": [
    "train = pd.read_csv('train.csv')\n",
    "#test=  pd.read_csv('test.csv')"
   ]
  },
  {
   "cell_type": "markdown",
   "metadata": {},
   "source": [
    "### 1.2 단위 수정\n",
    "\n",
    "- x와 y도 분리해두세요.\n",
    "- train에만 일단 적용해주세요. 우린 아직 test데이터를 보지 못했습니다."
   ]
  },
  {
   "cell_type": "code",
   "execution_count": 3,
   "metadata": {},
   "outputs": [],
   "source": [
    "train_x = train.drop(['price'], axis = 1)\n",
    "train_y = train.loc[:, ['price']]\n",
    "#train_y = np.sqrt(train.loc[:, ['price']])\n",
    "\n",
    "#test_x = test.drop(['price'], axis = 1)\n",
    "#test_y = np.sqrt(test.loc[:, ['price']])"
   ]
  },
  {
   "cell_type": "code",
   "execution_count": 4,
   "metadata": {},
   "outputs": [
    {
     "data": {
      "text/html": [
       "<div>\n",
       "<style scoped>\n",
       "    .dataframe tbody tr th:only-of-type {\n",
       "        vertical-align: middle;\n",
       "    }\n",
       "\n",
       "    .dataframe tbody tr th {\n",
       "        vertical-align: top;\n",
       "    }\n",
       "\n",
       "    .dataframe thead th {\n",
       "        text-align: right;\n",
       "    }\n",
       "</style>\n",
       "<table border=\"1\" class=\"dataframe\">\n",
       "  <thead>\n",
       "    <tr style=\"text-align: right;\">\n",
       "      <th></th>\n",
       "      <th>dong</th>\n",
       "      <th>apt</th>\n",
       "      <th>exclusive_use_area</th>\n",
       "      <th>floor</th>\n",
       "      <th>transaction_year</th>\n",
       "      <th>until_trans</th>\n",
       "      <th>sin_date</th>\n",
       "      <th>cos_date</th>\n",
       "    </tr>\n",
       "  </thead>\n",
       "  <tbody>\n",
       "    <tr>\n",
       "      <th>422159</th>\n",
       "      <td>강일동</td>\n",
       "      <td>강일리버파크2단지</td>\n",
       "      <td>84.74</td>\n",
       "      <td>6</td>\n",
       "      <td>4</td>\n",
       "      <td>8</td>\n",
       "      <td>-2.204364e-15</td>\n",
       "      <td>1.000000e+00</td>\n",
       "    </tr>\n",
       "    <tr>\n",
       "      <th>422160</th>\n",
       "      <td>강일동</td>\n",
       "      <td>고덕리엔파크2단지</td>\n",
       "      <td>59.83</td>\n",
       "      <td>7</td>\n",
       "      <td>4</td>\n",
       "      <td>6</td>\n",
       "      <td>1.000000e+00</td>\n",
       "      <td>4.892397e-16</td>\n",
       "    </tr>\n",
       "    <tr>\n",
       "      <th>422161</th>\n",
       "      <td>강일동</td>\n",
       "      <td>강일리버파크5단지</td>\n",
       "      <td>59.87</td>\n",
       "      <td>1</td>\n",
       "      <td>4</td>\n",
       "      <td>8</td>\n",
       "      <td>1.000000e+00</td>\n",
       "      <td>4.892397e-16</td>\n",
       "    </tr>\n",
       "    <tr>\n",
       "      <th>422162</th>\n",
       "      <td>강일동</td>\n",
       "      <td>강일리버파크4단지</td>\n",
       "      <td>84.83</td>\n",
       "      <td>9</td>\n",
       "      <td>4</td>\n",
       "      <td>8</td>\n",
       "      <td>5.879543e-15</td>\n",
       "      <td>-1.000000e+00</td>\n",
       "    </tr>\n",
       "    <tr>\n",
       "      <th>422163</th>\n",
       "      <td>강일동</td>\n",
       "      <td>강일리버파크9단지</td>\n",
       "      <td>84.74</td>\n",
       "      <td>13</td>\n",
       "      <td>4</td>\n",
       "      <td>8</td>\n",
       "      <td>5.879543e-15</td>\n",
       "      <td>-1.000000e+00</td>\n",
       "    </tr>\n",
       "  </tbody>\n",
       "</table>\n",
       "</div>"
      ],
      "text/plain": [
       "       dong        apt  exclusive_use_area  floor  transaction_year  \\\n",
       "422159  강일동  강일리버파크2단지               84.74      6                 4   \n",
       "422160  강일동  고덕리엔파크2단지               59.83      7                 4   \n",
       "422161  강일동  강일리버파크5단지               59.87      1                 4   \n",
       "422162  강일동  강일리버파크4단지               84.83      9                 4   \n",
       "422163  강일동  강일리버파크9단지               84.74     13                 4   \n",
       "\n",
       "        until_trans      sin_date      cos_date  \n",
       "422159            8 -2.204364e-15  1.000000e+00  \n",
       "422160            6  1.000000e+00  4.892397e-16  \n",
       "422161            8  1.000000e+00  4.892397e-16  \n",
       "422162            8  5.879543e-15 -1.000000e+00  \n",
       "422163            8  5.879543e-15 -1.000000e+00  "
      ]
     },
     "execution_count": 4,
     "metadata": {},
     "output_type": "execute_result"
    }
   ],
   "source": [
    "train_x.tail()"
   ]
  },
  {
   "cell_type": "code",
   "execution_count": 5,
   "metadata": {},
   "outputs": [
    {
     "data": {
      "text/html": [
       "<div>\n",
       "<style scoped>\n",
       "    .dataframe tbody tr th:only-of-type {\n",
       "        vertical-align: middle;\n",
       "    }\n",
       "\n",
       "    .dataframe tbody tr th {\n",
       "        vertical-align: top;\n",
       "    }\n",
       "\n",
       "    .dataframe thead th {\n",
       "        text-align: right;\n",
       "    }\n",
       "</style>\n",
       "<table border=\"1\" class=\"dataframe\">\n",
       "  <thead>\n",
       "    <tr style=\"text-align: right;\">\n",
       "      <th></th>\n",
       "      <th>price</th>\n",
       "    </tr>\n",
       "  </thead>\n",
       "  <tbody>\n",
       "    <tr>\n",
       "      <th>0</th>\n",
       "      <td>70000</td>\n",
       "    </tr>\n",
       "    <tr>\n",
       "      <th>1</th>\n",
       "      <td>100500</td>\n",
       "    </tr>\n",
       "    <tr>\n",
       "      <th>2</th>\n",
       "      <td>65800</td>\n",
       "    </tr>\n",
       "    <tr>\n",
       "      <th>3</th>\n",
       "      <td>30500</td>\n",
       "    </tr>\n",
       "    <tr>\n",
       "      <th>4</th>\n",
       "      <td>30500</td>\n",
       "    </tr>\n",
       "  </tbody>\n",
       "</table>\n",
       "</div>"
      ],
      "text/plain": [
       "    price\n",
       "0   70000\n",
       "1  100500\n",
       "2   65800\n",
       "3   30500\n",
       "4   30500"
      ]
     },
     "execution_count": 5,
     "metadata": {},
     "output_type": "execute_result"
    }
   ],
   "source": [
    "train_y.head()"
   ]
  },
  {
   "cell_type": "markdown",
   "metadata": {},
   "source": [
    "### 1.3 validation set 분할 - 첫번째\n",
    "\n",
    "- 사이킷런의 train_test_split을 통해 train데이터를 8:2로 validation set을 만들어주세요.\n",
    "- 즉 train중에서 train/val이 있고, test set이 따로 존재합니다.\n",
    "- test set은 전처리 과정에서 절대 사용되지 않을 예정입니다."
   ]
  },
  {
   "cell_type": "code",
   "execution_count": 6,
   "metadata": {},
   "outputs": [],
   "source": [
    "from sklearn.model_selection import train_test_split\n",
    "\n",
    "train_tune_x, val_x, train_tune_y, val_y = train_test_split(train_x, train_y, test_size=0.2, shuffle=True, random_state=34)"
   ]
  },
  {
   "cell_type": "markdown",
   "metadata": {},
   "source": [
    "### 1.4 질문\n",
    "\n",
    "- 이렇게 데이터를 나눌 경우 어떤 문제가 발생할 수 있을까요?\n",
    "    - 힌트) 현재 데이터는 관측된 시간이 존재합니다."
   ]
  },
  {
   "cell_type": "code",
   "execution_count": 7,
   "metadata": {},
   "outputs": [],
   "source": [
    "del(train_tune_x)\n",
    "del(train_tune_y)\n",
    "del(val_x)\n",
    "del(val_y)"
   ]
  },
  {
   "cell_type": "markdown",
   "metadata": {},
   "source": [
    "### 1.5 validation set 분할 - 두번째\n",
    "\n",
    "- `transaction_year == 4`인  행을 validation으로 지정해서 분할하세요."
   ]
  },
  {
   "cell_type": "code",
   "execution_count": 8,
   "metadata": {},
   "outputs": [],
   "source": [
    "val_x = train_x[train['transaction_year'] == 4]\n",
    "val_y = train_y[train['transaction_year'] == 4]"
   ]
  },
  {
   "cell_type": "code",
   "execution_count": 9,
   "metadata": {},
   "outputs": [],
   "source": [
    "train_tune_x = train_x[train['transaction_year'] < 4]\n",
    "train_tune_y = train_y[train['transaction_year'] < 4]"
   ]
  },
  {
   "cell_type": "code",
   "execution_count": 10,
   "metadata": {},
   "outputs": [
    {
     "data": {
      "text/html": [
       "<div>\n",
       "<style scoped>\n",
       "    .dataframe tbody tr th:only-of-type {\n",
       "        vertical-align: middle;\n",
       "    }\n",
       "\n",
       "    .dataframe tbody tr th {\n",
       "        vertical-align: top;\n",
       "    }\n",
       "\n",
       "    .dataframe thead th {\n",
       "        text-align: right;\n",
       "    }\n",
       "</style>\n",
       "<table border=\"1\" class=\"dataframe\">\n",
       "  <thead>\n",
       "    <tr style=\"text-align: right;\">\n",
       "      <th></th>\n",
       "      <th>dong</th>\n",
       "      <th>apt</th>\n",
       "      <th>exclusive_use_area</th>\n",
       "      <th>floor</th>\n",
       "      <th>transaction_year</th>\n",
       "      <th>until_trans</th>\n",
       "      <th>sin_date</th>\n",
       "      <th>cos_date</th>\n",
       "    </tr>\n",
       "  </thead>\n",
       "  <tbody>\n",
       "    <tr>\n",
       "      <th>0</th>\n",
       "      <td>사직동</td>\n",
       "      <td>광화문풍림스페이스본(9-0)</td>\n",
       "      <td>95.88</td>\n",
       "      <td>6</td>\n",
       "      <td>0</td>\n",
       "      <td>5</td>\n",
       "      <td>-1.000000e+00</td>\n",
       "      <td>-1.836970e-16</td>\n",
       "    </tr>\n",
       "    <tr>\n",
       "      <th>1</th>\n",
       "      <td>사직동</td>\n",
       "      <td>광화문풍림스페이스본(9-0)</td>\n",
       "      <td>108.55</td>\n",
       "      <td>11</td>\n",
       "      <td>0</td>\n",
       "      <td>5</td>\n",
       "      <td>-2.449294e-16</td>\n",
       "      <td>1.000000e+00</td>\n",
       "    </tr>\n",
       "    <tr>\n",
       "      <th>2</th>\n",
       "      <td>사직동</td>\n",
       "      <td>광화문풍림스페이스본(9-0)</td>\n",
       "      <td>94.51</td>\n",
       "      <td>1</td>\n",
       "      <td>0</td>\n",
       "      <td>5</td>\n",
       "      <td>-2.449294e-16</td>\n",
       "      <td>1.000000e+00</td>\n",
       "    </tr>\n",
       "    <tr>\n",
       "      <th>3</th>\n",
       "      <td>수송동</td>\n",
       "      <td>로얄팰리스스위트</td>\n",
       "      <td>42.87</td>\n",
       "      <td>8</td>\n",
       "      <td>0</td>\n",
       "      <td>8</td>\n",
       "      <td>-1.000000e+00</td>\n",
       "      <td>-1.836970e-16</td>\n",
       "    </tr>\n",
       "    <tr>\n",
       "      <th>4</th>\n",
       "      <td>수송동</td>\n",
       "      <td>로얄팰리스스위트</td>\n",
       "      <td>39.67</td>\n",
       "      <td>15</td>\n",
       "      <td>0</td>\n",
       "      <td>8</td>\n",
       "      <td>1.000000e+00</td>\n",
       "      <td>3.061617e-16</td>\n",
       "    </tr>\n",
       "  </tbody>\n",
       "</table>\n",
       "</div>"
      ],
      "text/plain": [
       "  dong              apt  exclusive_use_area  floor  transaction_year  \\\n",
       "0  사직동  광화문풍림스페이스본(9-0)               95.88      6                 0   \n",
       "1  사직동  광화문풍림스페이스본(9-0)              108.55     11                 0   \n",
       "2  사직동  광화문풍림스페이스본(9-0)               94.51      1                 0   \n",
       "3  수송동         로얄팰리스스위트               42.87      8                 0   \n",
       "4  수송동         로얄팰리스스위트               39.67     15                 0   \n",
       "\n",
       "   until_trans      sin_date      cos_date  \n",
       "0            5 -1.000000e+00 -1.836970e-16  \n",
       "1            5 -2.449294e-16  1.000000e+00  \n",
       "2            5 -2.449294e-16  1.000000e+00  \n",
       "3            8 -1.000000e+00 -1.836970e-16  \n",
       "4            8  1.000000e+00  3.061617e-16  "
      ]
     },
     "execution_count": 10,
     "metadata": {},
     "output_type": "execute_result"
    }
   ],
   "source": [
    "train_tune_x.head()"
   ]
  },
  {
   "cell_type": "markdown",
   "metadata": {},
   "source": [
    "### 1.5 캣부스트 인코딩 전에\n",
    "\n",
    "- 일단 캣부스트 인코딩을 위해 다음을 설치하세요."
   ]
  },
  {
   "cell_type": "code",
   "execution_count": 11,
   "metadata": {},
   "outputs": [
    {
     "name": "stdout",
     "output_type": "stream",
     "text": [
      "Requirement already satisfied: category_encoders in c:\\users\\namtaek\\anaconda3\\lib\\site-packages (2.2.2)\n",
      "Requirement already satisfied: scipy>=1.0.0 in c:\\users\\namtaek\\anaconda3\\lib\\site-packages (from category_encoders) (1.6.2)\n",
      "Requirement already satisfied: numpy>=1.14.0 in c:\\users\\namtaek\\anaconda3\\lib\\site-packages (from category_encoders) (1.19.5)\n",
      "Requirement already satisfied: statsmodels>=0.9.0 in c:\\users\\namtaek\\anaconda3\\lib\\site-packages (from category_encoders) (0.12.2)\n",
      "Requirement already satisfied: pandas>=0.21.1 in c:\\users\\namtaek\\anaconda3\\lib\\site-packages (from category_encoders) (1.2.4)\n",
      "Requirement already satisfied: patsy>=0.5.1 in c:\\users\\namtaek\\anaconda3\\lib\\site-packages (from category_encoders) (0.5.1)\n",
      "Requirement already satisfied: scikit-learn>=0.20.0 in c:\\users\\namtaek\\anaconda3\\lib\\site-packages (from category_encoders) (0.24.1)\n",
      "Requirement already satisfied: pytz>=2017.3 in c:\\users\\namtaek\\anaconda3\\lib\\site-packages (from pandas>=0.21.1->category_encoders) (2021.1)\n",
      "Requirement already satisfied: python-dateutil>=2.7.3 in c:\\users\\namtaek\\anaconda3\\lib\\site-packages (from pandas>=0.21.1->category_encoders) (2.8.1)\n",
      "Requirement already satisfied: six in c:\\users\\namtaek\\anaconda3\\lib\\site-packages (from patsy>=0.5.1->category_encoders) (1.15.0)\n",
      "Requirement already satisfied: threadpoolctl>=2.0.0 in c:\\users\\namtaek\\anaconda3\\lib\\site-packages (from scikit-learn>=0.20.0->category_encoders) (2.1.0)\n",
      "Requirement already satisfied: joblib>=0.11 in c:\\users\\namtaek\\anaconda3\\lib\\site-packages (from scikit-learn>=0.20.0->category_encoders) (1.0.1)\n"
     ]
    }
   ],
   "source": [
    "! pip install category_encoders"
   ]
  },
  {
   "cell_type": "code",
   "execution_count": 12,
   "metadata": {},
   "outputs": [],
   "source": [
    "from category_encoders.cat_boost import CatBoostEncoder"
   ]
  },
  {
   "cell_type": "markdown",
   "metadata": {},
   "source": [
    "### 1.6 캣부스트 인코딩\n",
    "\n",
    "- 방금까지 trainset을 분할했죠? 그 분할된 것을 캣부스트 인코딩의 인자로 받을 겁니다.\n",
    "- train에서 분할된 train을 인코딩을 위한 학습으로 사용해서, 이를 validation_x에 적용합니다.\n",
    "- 해당 결과를 `head()`를 통해 보여주세요."
   ]
  },
  {
   "cell_type": "code",
   "execution_count": 13,
   "metadata": {},
   "outputs": [
    {
     "data": {
      "text/html": [
       "<div>\n",
       "<style scoped>\n",
       "    .dataframe tbody tr th:only-of-type {\n",
       "        vertical-align: middle;\n",
       "    }\n",
       "\n",
       "    .dataframe tbody tr th {\n",
       "        vertical-align: top;\n",
       "    }\n",
       "\n",
       "    .dataframe thead th {\n",
       "        text-align: right;\n",
       "    }\n",
       "</style>\n",
       "<table border=\"1\" class=\"dataframe\">\n",
       "  <thead>\n",
       "    <tr style=\"text-align: right;\">\n",
       "      <th></th>\n",
       "      <th>dong</th>\n",
       "      <th>apt</th>\n",
       "      <th>exclusive_use_area</th>\n",
       "      <th>floor</th>\n",
       "      <th>transaction_year</th>\n",
       "      <th>until_trans</th>\n",
       "      <th>sin_date</th>\n",
       "      <th>cos_date</th>\n",
       "    </tr>\n",
       "  </thead>\n",
       "  <tbody>\n",
       "    <tr>\n",
       "      <th>0</th>\n",
       "      <td>사직동</td>\n",
       "      <td>광화문풍림스페이스본(9-0)</td>\n",
       "      <td>95.88</td>\n",
       "      <td>6</td>\n",
       "      <td>0</td>\n",
       "      <td>5</td>\n",
       "      <td>-1.000000e+00</td>\n",
       "      <td>-1.836970e-16</td>\n",
       "    </tr>\n",
       "    <tr>\n",
       "      <th>1</th>\n",
       "      <td>사직동</td>\n",
       "      <td>광화문풍림스페이스본(9-0)</td>\n",
       "      <td>108.55</td>\n",
       "      <td>11</td>\n",
       "      <td>0</td>\n",
       "      <td>5</td>\n",
       "      <td>-2.449294e-16</td>\n",
       "      <td>1.000000e+00</td>\n",
       "    </tr>\n",
       "    <tr>\n",
       "      <th>2</th>\n",
       "      <td>사직동</td>\n",
       "      <td>광화문풍림스페이스본(9-0)</td>\n",
       "      <td>94.51</td>\n",
       "      <td>1</td>\n",
       "      <td>0</td>\n",
       "      <td>5</td>\n",
       "      <td>-2.449294e-16</td>\n",
       "      <td>1.000000e+00</td>\n",
       "    </tr>\n",
       "    <tr>\n",
       "      <th>3</th>\n",
       "      <td>수송동</td>\n",
       "      <td>로얄팰리스스위트</td>\n",
       "      <td>42.87</td>\n",
       "      <td>8</td>\n",
       "      <td>0</td>\n",
       "      <td>8</td>\n",
       "      <td>-1.000000e+00</td>\n",
       "      <td>-1.836970e-16</td>\n",
       "    </tr>\n",
       "    <tr>\n",
       "      <th>4</th>\n",
       "      <td>수송동</td>\n",
       "      <td>로얄팰리스스위트</td>\n",
       "      <td>39.67</td>\n",
       "      <td>15</td>\n",
       "      <td>0</td>\n",
       "      <td>8</td>\n",
       "      <td>1.000000e+00</td>\n",
       "      <td>3.061617e-16</td>\n",
       "    </tr>\n",
       "  </tbody>\n",
       "</table>\n",
       "</div>"
      ],
      "text/plain": [
       "  dong              apt  exclusive_use_area  floor  transaction_year  \\\n",
       "0  사직동  광화문풍림스페이스본(9-0)               95.88      6                 0   \n",
       "1  사직동  광화문풍림스페이스본(9-0)              108.55     11                 0   \n",
       "2  사직동  광화문풍림스페이스본(9-0)               94.51      1                 0   \n",
       "3  수송동         로얄팰리스스위트               42.87      8                 0   \n",
       "4  수송동         로얄팰리스스위트               39.67     15                 0   \n",
       "\n",
       "   until_trans      sin_date      cos_date  \n",
       "0            5 -1.000000e+00 -1.836970e-16  \n",
       "1            5 -2.449294e-16  1.000000e+00  \n",
       "2            5 -2.449294e-16  1.000000e+00  \n",
       "3            8 -1.000000e+00 -1.836970e-16  \n",
       "4            8  1.000000e+00  3.061617e-16  "
      ]
     },
     "execution_count": 13,
     "metadata": {},
     "output_type": "execute_result"
    }
   ],
   "source": [
    "train_x.head()"
   ]
  },
  {
   "cell_type": "code",
   "execution_count": 14,
   "metadata": {},
   "outputs": [],
   "source": [
    "def catboost_encoder(train_x, train_y, test_x):\n",
    "  cate_var = list(train_x.select_dtypes(include=['object']))\n",
    "  encoder = CatBoostEncoder()\n",
    "  cbe_train_x = encoder.fit_transform(train_x[cate_var], train_y)\n",
    "  cbe_test_x = encoder.transform(test_x[cate_var])\n",
    "  cbe_train_result = (np.concatenate((cbe_train_x, train_x.loc[:,['exclusive_use_area', 'floor', 'transaction_year', \n",
    "                                                                  'until_trans', 'sin_time', 'cos_time']]), axis=1))\n",
    "  cbe_test_result = (np.concatenate((cbe_test_x, test_x.loc[:,['exclusive_use_area', 'floor', 'transaction_year', \n",
    "                                                               'until_trans', 'sin_time', 'cos_time']]), axis=1))\n",
    "  cbe_final_train = pd.DataFrame(cbe_train_result, columns= train_x.columns)\n",
    "  cbe_final_test = pd.DataFrame(cbe_test_result, columns= test_x.columns)\n",
    "  return(cbe_final_train, cbe_final_test)"
   ]
  },
  {
   "cell_type": "code",
   "execution_count": 15,
   "metadata": {},
   "outputs": [],
   "source": [
    "feature_list = list(train_tune_x.columns)"
   ]
  },
  {
   "cell_type": "code",
   "execution_count": 16,
   "metadata": {},
   "outputs": [],
   "source": [
    "CBE_encoder = CatBoostEncoder()\n",
    "train_tune_cbe = CBE_encoder.fit_transform(train_tune_x[feature_list], train_tune_y)\n",
    "val_cbe = CBE_encoder.transform(val_x[feature_list])"
   ]
  },
  {
   "cell_type": "code",
   "execution_count": 17,
   "metadata": {},
   "outputs": [
    {
     "data": {
      "text/html": [
       "<div>\n",
       "<style scoped>\n",
       "    .dataframe tbody tr th:only-of-type {\n",
       "        vertical-align: middle;\n",
       "    }\n",
       "\n",
       "    .dataframe tbody tr th {\n",
       "        vertical-align: top;\n",
       "    }\n",
       "\n",
       "    .dataframe thead th {\n",
       "        text-align: right;\n",
       "    }\n",
       "</style>\n",
       "<table border=\"1\" class=\"dataframe\">\n",
       "  <thead>\n",
       "    <tr style=\"text-align: right;\">\n",
       "      <th></th>\n",
       "      <th>dong</th>\n",
       "      <th>apt</th>\n",
       "      <th>exclusive_use_area</th>\n",
       "      <th>floor</th>\n",
       "      <th>transaction_year</th>\n",
       "      <th>until_trans</th>\n",
       "      <th>sin_date</th>\n",
       "      <th>cos_date</th>\n",
       "    </tr>\n",
       "  </thead>\n",
       "  <tbody>\n",
       "    <tr>\n",
       "      <th>2451</th>\n",
       "      <td>89176.597368</td>\n",
       "      <td>86280.203194</td>\n",
       "      <td>107.91</td>\n",
       "      <td>14</td>\n",
       "      <td>4</td>\n",
       "      <td>9</td>\n",
       "      <td>-1.000000e+00</td>\n",
       "      <td>-1.836970e-16</td>\n",
       "    </tr>\n",
       "    <tr>\n",
       "      <th>2452</th>\n",
       "      <td>89176.597368</td>\n",
       "      <td>86280.203194</td>\n",
       "      <td>151.81</td>\n",
       "      <td>10</td>\n",
       "      <td>4</td>\n",
       "      <td>9</td>\n",
       "      <td>-1.000000e+00</td>\n",
       "      <td>-1.836970e-16</td>\n",
       "    </tr>\n",
       "    <tr>\n",
       "      <th>2453</th>\n",
       "      <td>89176.597368</td>\n",
       "      <td>86280.203194</td>\n",
       "      <td>94.51</td>\n",
       "      <td>2</td>\n",
       "      <td>4</td>\n",
       "      <td>9</td>\n",
       "      <td>-2.449294e-16</td>\n",
       "      <td>1.000000e+00</td>\n",
       "    </tr>\n",
       "    <tr>\n",
       "      <th>2454</th>\n",
       "      <td>89176.597368</td>\n",
       "      <td>86280.203194</td>\n",
       "      <td>94.28</td>\n",
       "      <td>12</td>\n",
       "      <td>4</td>\n",
       "      <td>9</td>\n",
       "      <td>-2.449294e-16</td>\n",
       "      <td>1.000000e+00</td>\n",
       "    </tr>\n",
       "    <tr>\n",
       "      <th>2455</th>\n",
       "      <td>103789.156533</td>\n",
       "      <td>107170.755379</td>\n",
       "      <td>145.96</td>\n",
       "      <td>13</td>\n",
       "      <td>4</td>\n",
       "      <td>13</td>\n",
       "      <td>-1.000000e+00</td>\n",
       "      <td>-1.836970e-16</td>\n",
       "    </tr>\n",
       "  </tbody>\n",
       "</table>\n",
       "</div>"
      ],
      "text/plain": [
       "               dong            apt  exclusive_use_area  floor  \\\n",
       "2451   89176.597368   86280.203194              107.91     14   \n",
       "2452   89176.597368   86280.203194              151.81     10   \n",
       "2453   89176.597368   86280.203194               94.51      2   \n",
       "2454   89176.597368   86280.203194               94.28     12   \n",
       "2455  103789.156533  107170.755379              145.96     13   \n",
       "\n",
       "      transaction_year  until_trans      sin_date      cos_date  \n",
       "2451                 4            9 -1.000000e+00 -1.836970e-16  \n",
       "2452                 4            9 -1.000000e+00 -1.836970e-16  \n",
       "2453                 4            9 -2.449294e-16  1.000000e+00  \n",
       "2454                 4            9 -2.449294e-16  1.000000e+00  \n",
       "2455                 4           13 -1.000000e+00 -1.836970e-16  "
      ]
     },
     "execution_count": 17,
     "metadata": {},
     "output_type": "execute_result"
    }
   ],
   "source": [
    "val_cbe.head()"
   ]
  },
  {
   "cell_type": "markdown",
   "metadata": {},
   "source": [
    "## 2. 릿지 회귀 (Ridge Regression)"
   ]
  },
  {
   "cell_type": "markdown",
   "metadata": {},
   "source": [
    "- 성능이 좋다고 알려진 부스팅모델 두개 하려다가, 그냥 릿지로 선회했습니다!"
   ]
  },
  {
   "cell_type": "markdown",
   "metadata": {},
   "source": [
    "### 2.1 상관계수 플랏\n",
    "\n",
    "- 캣부스트 인코딩을 시행한 튜닝을 위한 trainset에 대해 상관계수플랏을 그리세요.\n",
    "- 해석해주세요. 릿지 회귀가 잘 작동할까요?"
   ]
  },
  {
   "cell_type": "code",
   "execution_count": 18,
   "metadata": {},
   "outputs": [],
   "source": [
    "import matplotlib.pyplot as plt\n",
    "import seaborn as sns "
   ]
  },
  {
   "cell_type": "code",
   "execution_count": 19,
   "metadata": {
    "scrolled": false
   },
   "outputs": [
    {
     "data": {
      "text/plain": [
       "<AxesSubplot:>"
      ]
     },
     "execution_count": 19,
     "metadata": {},
     "output_type": "execute_result"
    },
    {
     "data": {
      "image/png": "[encoded data removed]",
      "text/plain": [
       "<Figure size 720x576 with 2 Axes>"
      ]
     },
     "metadata": {
      "needs_background": "light"
     },
     "output_type": "display_data"
    }
   ],
   "source": [
    "plt.figure(figsize=(10,8))\n",
    "sns.heatmap(data = train_tune_cbe.corr(), annot=True, \n",
    "fmt = '.2f', linewidths=.5, cmap='Blues')"
   ]
  },
  {
   "cell_type": "markdown",
   "metadata": {},
   "source": [
    "### 2.2 해석과 무관하게 일단 릿지 튜닝\n",
    "\n",
    "- mse를 비교해서 튜닝을 진행하세요.\n",
    "- 릿지의 튜닝파라미터 알파는 0.00001, 0.0001, 0.001, 0.01, 0.1로 설정합니다.\n",
    "- 알파가 클수록 강한 페널티입니다.\n",
    "- 튜닝결과를 시각화해주세요."
   ]
  },
  {
   "cell_type": "code",
   "execution_count": 20,
   "metadata": {},
   "outputs": [],
   "source": [
    "from sklearn.linear_model import Ridge\n",
    "from sklearn.metrics import mean_squared_error\n",
    "from math import sqrt"
   ]
  },
  {
   "cell_type": "code",
   "execution_count": 21,
   "metadata": {
    "scrolled": true
   },
   "outputs": [
    {
     "name": "stdout",
     "output_type": "stream",
     "text": [
      "{'alpha': 1e-06}\n",
      "14777.881419493004\n",
      "[14777.881419493004, 14777.88141950204, 14777.881419592415, 14777.881420496142, 14777.881429533425]\n"
     ]
    }
   ],
   "source": [
    "best_ridge_score = 1000000\n",
    "each_score = []\n",
    "alpha_ridge = [0.000001,0.00001, 0.0001, 0.001, 0.01]\n",
    "\n",
    "for alpha1 in alpha_ridge:\n",
    "    ridge_reg = Ridge(alpha = alpha1)\n",
    "    ridge_reg.fit(train_tune_cbe, train_tune_y)\n",
    "    pred_y = ridge_reg.predict(val_cbe)\n",
    "    rmse_ridge = sqrt(mean_squared_error(val_y, pred_y))\n",
    "    \n",
    "    each_score.append(rmse_ridge)\n",
    "    \n",
    "        # RMSE가 더 작으면 기록합니다.\n",
    "    if rmse_ridge < best_ridge_score:\n",
    "        best_ridge_score = rmse_ridge\n",
    "        best_parameters = {'alpha': alpha1}\n",
    "        \n",
    "print(best_parameters)\n",
    "print(best_ridge_score)\n",
    "print(each_score)"
   ]
  },
  {
   "cell_type": "markdown",
   "metadata": {},
   "source": [
    "### 2.3 튜닝결과 시각화"
   ]
  },
  {
   "cell_type": "code",
   "execution_count": 22,
   "metadata": {},
   "outputs": [
    {
     "data": {
      "text/plain": [
       "<AxesSubplot:>"
      ]
     },
     "execution_count": 22,
     "metadata": {},
     "output_type": "execute_result"
    },
    {
     "data": {
      "image/png": "[encoded data removed]",
      "text/plain": [
       "<Figure size 432x288 with 1 Axes>"
      ]
     },
     "metadata": {
      "needs_background": "light"
     },
     "output_type": "display_data"
    }
   ],
   "source": [
    "sns.lineplot(x = alpha_ridge, y = each_score)"
   ]
  },
  {
   "cell_type": "markdown",
   "metadata": {},
   "source": [
    "### 2.4 해석\n",
    "\n",
    "튜닝 결과에 대한 플랏을 보고 해석을 해주세요.\n",
    "\n",
    "- 튜닝이 잘되었나요?\n",
    "- 튜닝이 안되었다면 그 이유는 무엇인가요?\n",
    "\n",
    "- https://stats.stackexchange.com/questions/81395/relationship-between-ridge-regression-and-pca-regression\n",
    "    - 수식이 쉽진 않을텐데 그냥 슬쩍 보세요...ㅎㅎㅎ\n",
    "- https://online.stat.psu.edu/stat508/lesson/5/5.1\n",
    "    - penn state자료는 맨 아래부분만 보면 됩니다."
   ]
  },
  {
   "cell_type": "markdown",
   "metadata": {},
   "source": [
    "### 2.5 그냥 선형 모형으로!\n",
    "\n",
    "그냥 linear regression을 튜닝을 위한 trainset에 적합시키고, validation set에 대한 rmse를 계산하세요.\n",
    "\n",
    "- linear regression은 다른 튜닝 파라미터를 필요로하지 않습니다.\n",
    "- ridge와의 validation rmse를 비교했을 때, 어떤 모형을 쓰는 것이 나을지 말해주세요."
   ]
  },
  {
   "cell_type": "code",
   "execution_count": 23,
   "metadata": {},
   "outputs": [],
   "source": [
    "from sklearn.linear_model import LinearRegression"
   ]
  },
  {
   "cell_type": "code",
   "execution_count": 24,
   "metadata": {
    "scrolled": false
   },
   "outputs": [
    {
     "name": "stdout",
     "output_type": "stream",
     "text": [
      "RMSE of linear regression is 14777.8814194924\n"
     ]
    }
   ],
   "source": [
    "lin_reg = LinearRegression()\n",
    "lin_reg.fit(train_tune_cbe, train_tune_y)\n",
    "pred_y = lin_reg.predict(val_cbe)\n",
    "rmse_lin = sqrt(mean_squared_error(val_y, pred_y))\n",
    "print('RMSE of linear regression is', rmse_lin)"
   ]
  },
  {
   "cell_type": "markdown",
   "metadata": {},
   "source": [
    "## 3. LightGBM\n",
    "\n",
    "강력하면서도 빠른 부스팅 모형인 LGBM에 대해 다룰 예정입니다."
   ]
  },
  {
   "cell_type": "code",
   "execution_count": 25,
   "metadata": {},
   "outputs": [
    {
     "name": "stdout",
     "output_type": "stream",
     "text": [
      "Requirement already satisfied: lightgbm in c:\\users\\namtaek\\anaconda3\\lib\\site-packages (3.1.1)\n",
      "Requirement already satisfied: scikit-learn!=0.22.0 in c:\\users\\namtaek\\anaconda3\\lib\\site-packages (from lightgbm) (0.24.1)\n",
      "Requirement already satisfied: scipy in c:\\users\\namtaek\\anaconda3\\lib\\site-packages (from lightgbm) (1.6.2)\n",
      "Requirement already satisfied: wheel in c:\\users\\namtaek\\anaconda3\\lib\\site-packages (from lightgbm) (0.36.2)\n",
      "Requirement already satisfied: numpy in c:\\users\\namtaek\\anaconda3\\lib\\site-packages (from lightgbm) (1.19.5)\n",
      "Requirement already satisfied: joblib>=0.11 in c:\\users\\namtaek\\anaconda3\\lib\\site-packages (from scikit-learn!=0.22.0->lightgbm) (1.0.1)\n",
      "Requirement already satisfied: threadpoolctl>=2.0.0 in c:\\users\\namtaek\\anaconda3\\lib\\site-packages (from scikit-learn!=0.22.0->lightgbm) (2.1.0)\n"
     ]
    }
   ],
   "source": [
    "! pip install lightgbm"
   ]
  },
  {
   "cell_type": "markdown",
   "metadata": {},
   "source": [
    "### 3.1 LightGBM 이해\n",
    "\n",
    "모형에 대해 아주 기본적인 이해는 필요하겠죠? LGBM의 특징/장점/문제점을 적어주세요.\n",
    "\n",
    "- 20-01 데마팀 클린업 3주차 혹은 또 다른 데마팀 클린업을 보셔도 괜찮습니다.\n",
    "- 구글링해도 잘 나옵니다."
   ]
  },
  {
   "cell_type": "markdown",
   "metadata": {},
   "source": [
    "### 3.2 LGBM 튜닝\n",
    "\n",
    "- LGBM의 튜닝파라미터는 많습니다.\n",
    "- `max_depth`, `learning_rate`, `lambda`, `min_child_samples` 등 다양한데, 패키지에서는 learning rate만 튜닝하도록 하겠습니다.\n",
    "    - [0.01, 0.05, 0.1, 0.3, 0.5, 0.7, 0.99] 이렇게 튜닝해주세요.\n",
    "    - 부스팅에서는 일단 learning rate과 iteration의 trade off를 적절하게 고려해줘서 학습속도를 맞춰준다음, 세부적인 튜닝을 하는게 일반적입니다.\n",
    "- 더하고 싶으면 해서 더 좋은 성능을 내셔도 됩니다! 보통 `enumerate`를 통해 파라미터를 묶어줘서 진행합니다."
   ]
  },
  {
   "cell_type": "code",
   "execution_count": 26,
   "metadata": {},
   "outputs": [],
   "source": [
    "import lightgbm as lgb\n",
    "from lightgbm import LGBMModel,LGBMRegressor\n",
    "# import itertools"
   ]
  },
  {
   "cell_type": "code",
   "execution_count": 27,
   "metadata": {},
   "outputs": [],
   "source": [
    "best_lgbm_score = 1000000\n",
    "each_score = []\n",
    "lr_lgbm = [0.01, 0.05, 0.1, 0.3, 0.5, 0.7, 0.99]"
   ]
  },
  {
   "cell_type": "code",
   "execution_count": 28,
   "metadata": {},
   "outputs": [
    {
     "name": "stdout",
     "output_type": "stream",
     "text": [
      "{'alpha': 1e-06}\n",
      "1000000\n",
      "[417203856.05084056, 144530331.5148534, 134343431.99351662, 125521683.2852912, 132921919.1102039, 172533722.53728354, 159922746.31820524]\n"
     ]
    }
   ],
   "source": [
    "for lr in lr_lgbm:\n",
    "    lgbm_reg = LGBMRegressor(learning_rate = lr)\n",
    "    lgbm_reg.fit(train_tune_cbe, train_tune_y)\n",
    "    pred_y = lgbm_reg.predict(val_cbe)\n",
    "    rmse_lgbm = sqrt(mean_squared_error(val_y, pred_y))\n",
    "    \n",
    "    each_score.append(rmse_lgbm)\n",
    "    \n",
    "        # RMSE가 더 작으면 기록합니다.\n",
    "    if rmse_lgbm < best_lgbm_score:\n",
    "        best_lgbm_score = rmse_lgbm\n",
    "        best_parameters = {'learning_rate': lr}\n",
    "        \n",
    "print(best_parameters)\n",
    "print(best_lgbm_score)\n",
    "print(each_score)"
   ]
  },
  {
   "cell_type": "markdown",
   "metadata": {},
   "source": [
    "### 3.3 튜닝결과 시각화\n",
    "\n",
    "learning_rate의 변화에 따른 rmse의 변화를 시각화해주세요!"
   ]
  },
  {
   "cell_type": "code",
   "execution_count": 29,
   "metadata": {},
   "outputs": [
    {
     "data": {
      "text/plain": [
       "<AxesSubplot:>"
      ]
     },
     "execution_count": 29,
     "metadata": {},
     "output_type": "execute_result"
    },
    {
     "data": {
      "image/png": "[encoded data removed]",
      "text/plain": [
       "<Figure size 432x288 with 1 Axes>"
      ]
     },
     "metadata": {
      "needs_background": "light"
     },
     "output_type": "display_data"
    }
   ],
   "source": [
    "sns.lineplot(x = lr_lgbm, y = each_score)"
   ]
  },
  {
   "cell_type": "markdown",
   "metadata": {},
   "source": [
    "### 3.4 튜닝에 대하여 알아보자\n",
    "\n",
    "우리가 한 튜닝방식은 `그리드 서치(Grid Search)`방법입니다. 다른 방법으로는 `Random Search`와 `Bayesian Optimization` 방법이 있습니다.\n",
    "\n",
    "- 세 가지 방법에 대해서 간단히 설명하고, 장단점을 말해주세요.\n",
    "- 요즘에는 Neural Process 기반의 Optimization이란 방법도 활발히 연구중이라던데...그냥 그렇다구요 ㅎㅎㅎ 원래 Bayesian Optimization이 Gaussian Process 기반인데, 이걸 뛰어넘는 성능이래요 암튼~"
   ]
  },
  {
   "cell_type": "markdown",
   "metadata": {},
   "source": [
    "## 4. test set"
   ]
  },
  {
   "cell_type": "markdown",
   "metadata": {},
   "source": [
    "### 4.1 test set 불러오기\n",
    "\n",
    "- test set을 불러오고\n",
    "- X와 y를 분리하세요."
   ]
  },
  {
   "cell_type": "code",
   "execution_count": 30,
   "metadata": {},
   "outputs": [],
   "source": [
    "test=  pd.read_csv('test.csv')\n",
    "test_x = test.drop(['price'], axis = 1)\n",
    "test_y = test.loc[:, ['price']]"
   ]
  },
  {
   "cell_type": "markdown",
   "metadata": {},
   "source": [
    "### 4.2 캣부스트 인코딩\n",
    "\n",
    "- 전체 train set에 대해 캣부스트 인코딩을 시행해주세요.\n",
    "- 인자에는 train_x/train_y/test_x가 들어갈겁니다."
   ]
  },
  {
   "cell_type": "code",
   "execution_count": 31,
   "metadata": {},
   "outputs": [],
   "source": [
    "feature_list = list(train_x.columns)\n",
    "\n",
    "CBE_encoder = CatBoostEncoder()\n",
    "train_cbe = CBE_encoder.fit_transform(train_x[feature_list], train_y)\n",
    "test_cbe = CBE_encoder.transform(test_x[feature_list])"
   ]
  },
  {
   "cell_type": "markdown",
   "metadata": {},
   "source": [
    "### 4.3 최적의 파라미터 적합\n",
    "\n",
    "- 2와 3의 결과에서 최적의 파라미터(모델)을 전체 trainset에 대해 적합하세요."
   ]
  },
  {
   "cell_type": "code",
   "execution_count": 32,
   "metadata": {},
   "outputs": [
    {
     "data": {
      "text/plain": [
       "LinearRegression()"
      ]
     },
     "execution_count": 32,
     "metadata": {},
     "output_type": "execute_result"
    }
   ],
   "source": [
    "best_lin_reg = LinearRegression()\n",
    "best_lin_reg.fit(train_cbe, train_y)"
   ]
  },
  {
   "cell_type": "code",
   "execution_count": 33,
   "metadata": {},
   "outputs": [
    {
     "data": {
      "text/plain": [
       "LGBMRegressor(learning_rate=0.3)"
      ]
     },
     "execution_count": 33,
     "metadata": {},
     "output_type": "execute_result"
    }
   ],
   "source": [
    "best_lgbm_reg = LGBMRegressor(learning_rate = 0.3)\n",
    "best_lgbm_reg.fit(train_cbe, train_y)"
   ]
  },
  {
   "cell_type": "markdown",
   "metadata": {},
   "source": [
    "### 4.4 test set에 대해 평가\n",
    "\n",
    "- 두 모델을 test set에 대해 평가해서 비교하세요."
   ]
  },
  {
   "cell_type": "code",
   "execution_count": 34,
   "metadata": {},
   "outputs": [],
   "source": [
    "pred_y = best_lgbm_reg.predict(test_cbe)\n",
    "rmse_best_lgbm = sqrt(mean_squared_error(test_y, pred_y))\n",
    "\n",
    "pred_y = best_lin_reg.predict(test_cbe)\n",
    "rmse_best_lin = sqrt(mean_squared_error(test_y, pred_y))"
   ]
  },
  {
   "cell_type": "code",
   "execution_count": 35,
   "metadata": {},
   "outputs": [
    {
     "name": "stdout",
     "output_type": "stream",
     "text": [
      "12620.16900868891\n",
      "16350.627412822796\n"
     ]
    }
   ],
   "source": [
    "print(rmse_best_lgbm)\n",
    "print(rmse_best_lin)"
   ]
  }
 ],
 "metadata": {
  "kernelspec": {
   "display_name": "Python 3",
   "language": "python",
   "name": "python3"
  },
  "language_info": {
   "codemirror_mode": {
    "name": "ipython",
    "version": 3
   },
   "file_extension": ".py",
   "mimetype": "text/x-python",
   "name": "python",
   "nbconvert_exporter": "python",
   "pygments_lexer": "ipython3",
   "version": "3.8.8"
  }
 },
 "nbformat": 4,
 "nbformat_minor": 4
}
