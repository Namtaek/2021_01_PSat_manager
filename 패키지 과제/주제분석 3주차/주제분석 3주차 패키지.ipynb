{
 "cells": [
  {
   "cell_type": "markdown",
   "metadata": {},
   "source": [
    "# 21-01 주제분석 3주차 패키지"
   ]
  },
  {
   "cell_type": "markdown",
   "metadata": {},
   "source": [
    "- 주제분석 3주차 분석 툴은 Python/R 둘 다 가능합니다. \n",
    "    - 1-3주차 패키지 문제의 조건 및 힌트는 Python을 기준으로 하지만, R을 사용해도 무방합니다.\n",
    "    - 다만 2/3주차의 머신러닝/딥러닝 모듈을 편하게 사용하기 위해서는 Python이 더 편할겁니다.\n",
    "\n",
    "- 제출형식은 pdf/html/doc/ppt 등 발표가 가능하면 괜찮습니다. 하지만 html로 주시면 가장 감사합니다.\n",
    "\n",
    "- 패키지 과제 발표는 세미나 쉬는시간 이후에 하게 되며, 역시 랜덤으로 5시00분에 발표됩니다.\n",
    "\n",
    "- 제출기한은 목요일 자정까지이며 지각시 벌금 5000원이 있습니다. 미제출 시 만원입니다. \n",
    "    - 패키지 2회 무단 미제출 시 퇴출이니 유의해 주세요."
   ]
  },
  {
   "cell_type": "code",
   "execution_count": 1,
   "metadata": {},
   "outputs": [],
   "source": [
    "import pandas as pd \n",
    "import numpy as np\n",
    "\n",
    "import matplotlib.pyplot as plt\n",
    "import seaborn as sns\n",
    "\n",
    "from category_encoders.cat_boost import CatBoostEncoder\n",
    "import lightgbm as lgb\n",
    "from lightgbm import LGBMModel,LGBMRegressor"
   ]
  },
  {
   "cell_type": "markdown",
   "metadata": {},
   "source": [
    "- 이번주에 다룰 내용은 머신러닝 모델의 해석/기본적인 딥러닝입니다.\n",
    "- 더불어서 다뤄지지는 내용은 randomness control입니다.\n",
    "- 먼저 주어진 코드를 실행하세요."
   ]
  },
  {
   "cell_type": "code",
   "execution_count": 2,
   "metadata": {},
   "outputs": [
    {
     "data": {
      "text/plain": [
       "LGBMRegressor(learning_rate=0.3)"
      ]
     },
     "execution_count": 2,
     "metadata": {},
     "output_type": "execute_result"
    }
   ],
   "source": [
    "train = pd.read_csv('train.csv')\n",
    "test=  pd.read_csv('test.csv')\n",
    "\n",
    "train_x = train.drop(['price'], axis = 1)\n",
    "train_y = train.loc[:, ['price']]\n",
    "test_x = test.drop(['price'], axis = 1)\n",
    "test_y = np.sqrt(test.loc[:, ['price']])\n",
    "\n",
    "feature_list = list(train_x.columns)\n",
    "\n",
    "CBE_encoder = CatBoostEncoder()\n",
    "train_cbe = CBE_encoder.fit_transform(train_x[feature_list], train_y)\n",
    "test_cbe = CBE_encoder.transform(test_x[feature_list])\n",
    "\n",
    "best_lgbm_reg = LGBMRegressor(learning_rate = 0.3)\n",
    "best_lgbm_reg.fit(train_cbe, train_y)"
   ]
  },
  {
   "cell_type": "markdown",
   "metadata": {},
   "source": [
    "## 1. Interpretable ML\n",
    "\n",
    "해석가능한 머신러닝은 모델의 결과를 해석하기 위한 방법들입니다. 보통 랜덤포레스트(Random Forest)에서 Feature(Variable) Importance에 대해 들어본 적이 있을텐데, 그것과 유사합니다. Interpretable ML 방법의 특징은 어떤 모델에도 다 적용이 가능하다는건데, SVM이나 Neural Net같이 해석이 불가능하다고 알려진 모델들도 어떤 변수들이 모델을 만드는데 있어서 주요하게 사용되었는지를 파악할 수 있게 해줍니다. 물론 회귀분석처럼 '다른 변수들을 고정시킨 상황에서 $x_1$이 한단위 증가하면 $y$가 평균적으로 $\\beta_1$만큼 증가한다' 라고 말할수는 없지만요!\n",
    "\n",
    "Feature Importance/Partial Dependence Plot/Lime/SHAP 에 대한 해석은 조금 조심해야할 필요가 있습니다. 밑의 링크의 '모델해석 및 이탈원인 분석'을 참고하면 되는데, 처음에 딱 이해하기 쉬운 개념은 아니지만 나중에 보다보면 더 이해가 잘 되실 것 같아요.\n",
    "\n",
    "https://danbi-ncsoft.github.io/competition/2019/02/19/big-contest-2018-retrospect.html\n",
    "\n",
    "나중에 관심있으시면 이 책을 보는 것을 추천드립니다. 저도 아직 안봄 ㅎ\n",
    "\n",
    "https://christophm.github.io/interpretable-ml-book/"
   ]
  },
  {
   "cell_type": "markdown",
   "metadata": {},
   "source": [
    "#### **오늘의 해석은 각각 방법에 입각해서 엄밀하게 해석할 필요없이, 그냥 가볍게 해석해주시면 됩니다!**"
   ]
  },
  {
   "cell_type": "markdown",
   "metadata": {},
   "source": [
    "### 1.1 모델 불러오기\n",
    "\n",
    "주어진 패키지를 불러오고, `lgbm.pkl`을 불러오세요."
   ]
  },
  {
   "cell_type": "code",
   "execution_count": 3,
   "metadata": {},
   "outputs": [],
   "source": [
    "import pickle\n",
    "import joblib"
   ]
  },
  {
   "cell_type": "code",
   "execution_count": 4,
   "metadata": {},
   "outputs": [],
   "source": [
    "file_name = 'lgbm.pkl'\n",
    "lgbm = joblib.load(file_name)"
   ]
  },
  {
   "cell_type": "markdown",
   "metadata": {},
   "source": [
    "### 1.2 Feature Importance 확인과 해석\n",
    "\n",
    "- 불러온 모델에 대해 `plot_importance`함수를 통해 Feature Importance를 시각화해주세요.\n",
    "- 결과에 대해 간단히 해석해주세요.\n",
    "\n",
    "여기서 Feature Importance는 Permutation를 통한 중요도를 보는 것이 아니고, tree 모델 자체의 구성에서 어떤 변수가 지니불순도를 잘 줄였는지를 확인한 것이라고 이해해주시면 됩니다. "
   ]
  },
  {
   "cell_type": "code",
   "execution_count": 5,
   "metadata": {
    "scrolled": false
   },
   "outputs": [
    {
     "data": {
      "text/plain": [
       "<AxesSubplot:title={'center':'Feature importance'}, xlabel='Feature importance', ylabel='Features'>"
      ]
     },
     "execution_count": 5,
     "metadata": {},
     "output_type": "execute_result"
    },
    {
     "data": {
      "image/png": "[encoded data removed]",
      "text/plain": [
       "<Figure size 432x288 with 1 Axes>"
      ]
     },
     "metadata": {
      "needs_background": "light"
     },
     "output_type": "display_data"
    }
   ],
   "source": [
    "lgb.plot_importance(lgbm)"
   ]
  },
  {
   "cell_type": "markdown",
   "metadata": {},
   "source": [
    "**이제는 불러온 모델 말고, `best_lgbm_reg`를 사용하세요.**"
   ]
  },
  {
   "cell_type": "markdown",
   "metadata": {},
   "source": [
    "### 1.3 Randomness Control\n",
    "\n",
    "- `random, numpy` 패키지의 난수를 42로 고정하세요.\n",
    "- 더불어서 `os` 패키지의 난수도 고정해야합니다.\n",
    "\n",
    "Permutation 방식의 Feature Importance를 시행한건데, permutation자체에 랜덤성이 있다보니 결과가 재현 가능하도록 시드를 고정해줍니다.\n",
    "\n",
    "파이썬의 시드 고정은 R처럼 그냥 `set.seed()`한다고 해서 고정되지 않습니다. 전체 파이썬과 여러 패키지들의 randomness를 각각 고정해주어야 재현가능해집니다. 정말 귀찮고, 딥러닝의 경우 GPU를 사용할 경우 GPU의 계산과 관련된 시드를 고정하면 속도가 상당히 느려진다고 알려져 있습니다. 더불어서 재현도 100%되진 않으며 성능도 살짝 떨어진다고는 하지만, GPU를 사용하지 않는 경우에는 문제가 없고 최소한 할줄은 알아야겠죠?\n",
    "\n",
    "더불어서 왜 저런식으로 복잡하게 구성이 되는가?에 대해 궁금할 수 있는데 찾아본 적은 없지만 아마도 `numpy`는 c++가 뒤에서 연산을 해주는 것으로 알고있고(그래서 빠름!), `random`은 그냥 파이썬이고, `os`는 우리 os를 건드리는 것이 아닐까....? 추측입니다 :)"
   ]
  },
  {
   "cell_type": "code",
   "execution_count": 6,
   "metadata": {},
   "outputs": [],
   "source": [
    "import random\n",
    "import os"
   ]
  },
  {
   "cell_type": "code",
   "execution_count": 7,
   "metadata": {},
   "outputs": [],
   "source": [
    "def set_seed(seed: int = 42):\n",
    "    random.seed(seed)\n",
    "    np.random.seed(seed)\n",
    "    os.environ[\"PYTHONHASHSEED\"] = str(seed)"
   ]
  },
  {
   "cell_type": "code",
   "execution_count": 8,
   "metadata": {},
   "outputs": [],
   "source": [
    "set_seed(42)"
   ]
  },
  {
   "cell_type": "markdown",
   "metadata": {},
   "source": [
    "### 1.4 Permutation Feature Importance\n",
    "\n",
    "- permutation feature importance를 계산하기 위해 `best_lgbm_reg`를 `permutation_importance`함수를 사용해 test set에 적합하세요.\n",
    "- permutation feature importance를 시각화해주세요.\n",
    "\n",
    "위의 1.2에서는 train에서 변수중요도를 보고, 지금은 test에서 봐서 좀 이상하다고 생각할수도 있습니다. 편의를 위해, 그리고 실제로 변수중요도에 대한 부분에서 어떤 set에 대해 봐야하는지가 100% 정답처럼 있는 것은 아니라고 알고 있어요.(물론 제가 틀렸을수도!) 아무튼 너무 신경쓰지말고 해주세요!"
   ]
  },
  {
   "cell_type": "code",
   "execution_count": 9,
   "metadata": {},
   "outputs": [],
   "source": [
    "from sklearn.inspection import permutation_importance"
   ]
  },
  {
   "cell_type": "code",
   "execution_count": 10,
   "metadata": {},
   "outputs": [],
   "source": [
    "results = permutation_importance(best_lgbm_reg, test_cbe, test_y, scoring='neg_mean_squared_error')"
   ]
  },
  {
   "cell_type": "code",
   "execution_count": 11,
   "metadata": {},
   "outputs": [
    {
     "name": "stdout",
     "output_type": "stream",
     "text": [
      "Feature: 0, Score: -619601399.89905\n",
      "Feature: 1, Score: -681041787.58605\n",
      "Feature: 2, Score: -748080977.79554\n",
      "Feature: 3, Score: -65850639.86090\n",
      "Feature: 4, Score: 0.00000\n",
      "Feature: 5, Score: -250669487.70224\n",
      "Feature: 6, Score: 6158504.09527\n",
      "Feature: 7, Score: 4002576.95859\n"
     ]
    },
    {
     "data": {
      "image/png": "[encoded data removed]",
      "text/plain": [
       "<Figure size 432x288 with 1 Axes>"
      ]
     },
     "metadata": {
      "needs_background": "light"
     },
     "output_type": "display_data"
    }
   ],
   "source": [
    "importance = results.importances_mean\n",
    "\n",
    "for i,v in enumerate(importance):\n",
    "    print('Feature: %0d, Score: %.5f' % (i,v))\n",
    "\n",
    "plt.bar([x for x in range(len(importance))], importance)\n",
    "plt.show()"
   ]
  },
  {
   "cell_type": "markdown",
   "metadata": {},
   "source": [
    "### 1.5 SHAP(SHapley Additive exPlanations)의 확인과 해석\n",
    "\n",
    "- SHAP Value를 구하고 간단한 해석을 해주세요.\n",
    "- `shap.TreeExplainer`, `shap_values`, `shap.summary_plot` 정도의 함수만 사용하면 됩니다.\n",
    "- 결과가 좀 다른건 상관없습니다."
   ]
  },
  {
   "cell_type": "code",
   "execution_count": 12,
   "metadata": {},
   "outputs": [
    {
     "name": "stdout",
     "output_type": "stream",
     "text": [
      "Requirement already satisfied: shap in c:\\users\\namtaek\\anaconda3\\lib\\site-packages (0.39.0)\n",
      "Requirement already satisfied: pandas in c:\\users\\namtaek\\anaconda3\\lib\\site-packages (from shap) (1.2.4)\n",
      "Requirement already satisfied: tqdm>4.25.0 in c:\\users\\namtaek\\anaconda3\\lib\\site-packages (from shap) (4.59.0)\n",
      "Requirement already satisfied: numpy in c:\\users\\namtaek\\anaconda3\\lib\\site-packages (from shap) (1.19.5)\n",
      "Requirement already satisfied: scipy in c:\\users\\namtaek\\anaconda3\\lib\\site-packages (from shap) (1.6.2)\n",
      "Requirement already satisfied: numba in c:\\users\\namtaek\\anaconda3\\lib\\site-packages (from shap) (0.53.1)\n",
      "Requirement already satisfied: cloudpickle in c:\\users\\namtaek\\anaconda3\\lib\\site-packages (from shap) (1.6.0)\n",
      "Requirement already satisfied: slicer==0.0.7 in c:\\users\\namtaek\\anaconda3\\lib\\site-packages (from shap) (0.0.7)\n",
      "Requirement already satisfied: scikit-learn in c:\\users\\namtaek\\anaconda3\\lib\\site-packages (from shap) (0.24.1)\n",
      "Requirement already satisfied: setuptools in c:\\users\\namtaek\\anaconda3\\lib\\site-packages (from numba->shap) (52.0.0.post20210125)\n",
      "Requirement already satisfied: llvmlite<0.37,>=0.36.0rc1 in c:\\users\\namtaek\\anaconda3\\lib\\site-packages (from numba->shap) (0.36.0)\n",
      "Requirement already satisfied: python-dateutil>=2.7.3 in c:\\users\\namtaek\\anaconda3\\lib\\site-packages (from pandas->shap) (2.8.1)\n",
      "Requirement already satisfied: pytz>=2017.3 in c:\\users\\namtaek\\anaconda3\\lib\\site-packages (from pandas->shap) (2021.1)\n",
      "Requirement already satisfied: six>=1.5 in c:\\users\\namtaek\\anaconda3\\lib\\site-packages (from python-dateutil>=2.7.3->pandas->shap) (1.15.0)\n",
      "Requirement already satisfied: joblib>=0.11 in c:\\users\\namtaek\\anaconda3\\lib\\site-packages (from scikit-learn->shap) (1.0.1)\n",
      "Requirement already satisfied: threadpoolctl>=2.0.0 in c:\\users\\namtaek\\anaconda3\\lib\\site-packages (from scikit-learn->shap) (2.1.0)\n"
     ]
    }
   ],
   "source": [
    "! pip install shap"
   ]
  },
  {
   "cell_type": "code",
   "execution_count": 13,
   "metadata": {},
   "outputs": [],
   "source": [
    "import shap"
   ]
  },
  {
   "cell_type": "code",
   "execution_count": 14,
   "metadata": {},
   "outputs": [
    {
     "data": {
      "image/png": "[encoded data removed]",
      "text/plain": [
       "<Figure size 576x338.4 with 2 Axes>"
      ]
     },
     "metadata": {
      "needs_background": "light"
     },
     "output_type": "display_data"
    },
    {
     "data": {
      "text/plain": [
       "<Figure size 432x288 with 0 Axes>"
      ]
     },
     "metadata": {},
     "output_type": "display_data"
    }
   ],
   "source": [
    "explainer = shap.TreeExplainer(best_lgbm_reg)\n",
    "shap_values = explainer.shap_values(test_cbe)\n",
    " \n",
    "plt.figure(figsize=(7,6))\n",
    "shap.summary_plot(shap_values, test_cbe)\n",
    "plt.tight_layout()\n",
    "plt.show()"
   ]
  },
  {
   "cell_type": "markdown",
   "metadata": {},
   "source": [
    "## 2. 딥러닝 기본\n",
    "\n",
    "딥러닝 정말 간단히 해볼겁니다!"
   ]
  },
  {
   "cell_type": "markdown",
   "metadata": {},
   "source": [
    "### 2.1 주어진 코드를 실행하고, 현재 신경망의 구조에 대해 간단히 설명해주세요."
   ]
  },
  {
   "cell_type": "code",
   "execution_count": 15,
   "metadata": {},
   "outputs": [],
   "source": [
    "train = pd.read_csv('train.csv')\n",
    "train_x = train.drop(['price'], axis = 1)\n",
    "train_y = train.loc[:, ['price']]\n",
    "\n",
    "val_x = train_x[train['transaction_year'] == 4]\n",
    "val_y = train_y[train['transaction_year'] == 4]\n",
    "train_tune_x = train_x[train['transaction_year'] < 4]\n",
    "train_tune_y = train_y[train['transaction_year'] < 4]\n",
    "\n",
    "CBE_encoder = CatBoostEncoder()\n",
    "train_tune_cbe = CBE_encoder.fit_transform(train_tune_x[feature_list], train_tune_y)\n",
    "val_cbe = CBE_encoder.transform(val_x[feature_list])"
   ]
  },
  {
   "cell_type": "code",
   "execution_count": 16,
   "metadata": {},
   "outputs": [],
   "source": [
    "import tensorflow as tf\n",
    "import keras\n",
    "\n",
    "from keras import models\n",
    "from keras import layers\n",
    "from keras.layers import Dense\n",
    "from keras.optimizers import Adam"
   ]
  },
  {
   "cell_type": "code",
   "execution_count": 21,
   "metadata": {},
   "outputs": [],
   "source": [
    "def build_model():\n",
    "  model = keras.Sequential([\n",
    "    layers.Dense(256, activation='relu', input_shape=[len(train_tune_cbe.keys())]),\n",
    "    layers.Dense(64, activation='relu'),\n",
    "    layers.Dense(32, activation='relu'),\n",
    "    layers.Dense(1)\n",
    "  ])\n",
    "\n",
    "  optimizer = tf.keras.optimizers.RMSprop(0.0001)\n",
    "\n",
    "  model.compile(loss='mse',\n",
    "                optimizer=optimizer,\n",
    "                metrics=['mse'])\n",
    "  return model"
   ]
  },
  {
   "cell_type": "code",
   "execution_count": 22,
   "metadata": {
    "scrolled": true
   },
   "outputs": [
    {
     "name": "stdout",
     "output_type": "stream",
     "text": [
      "Model: \"sequential_1\"\n",
      "_________________________________________________________________\n",
      "Layer (type)                 Output Shape              Param #   \n",
      "=================================================================\n",
      "dense_4 (Dense)              (None, 256)               2304      \n",
      "_________________________________________________________________\n",
      "dense_5 (Dense)              (None, 64)                16448     \n",
      "_________________________________________________________________\n",
      "dense_6 (Dense)              (None, 32)                2080      \n",
      "_________________________________________________________________\n",
      "dense_7 (Dense)              (None, 1)                 33        \n",
      "=================================================================\n",
      "Total params: 20,865\n",
      "Trainable params: 20,865\n",
      "Non-trainable params: 0\n",
      "_________________________________________________________________\n"
     ]
    }
   ],
   "source": [
    "model = build_model()\n",
    "model.summary()"
   ]
  },
  {
   "cell_type": "markdown",
   "metadata": {},
   "source": [
    "### 2.2 training loss와 validation loss를 시각화하세요.\n",
    "\n",
    "- 본인 컴에서 돌리면 꽤나 돌아갈수도 있어요. 주분과 함께하려면 패키지가 코랩으로 가거나, 주분이 코랩으로 가면 한번에 투 컴을 돌릴 수 있습니다."
   ]
  },
  {
   "cell_type": "code",
   "execution_count": 23,
   "metadata": {
    "scrolled": true
   },
   "outputs": [
    {
     "name": "stdout",
     "output_type": "stream",
     "text": [
      "Epoch 1/300\n",
      "611/611 [==============================] - 1s 2ms/step - loss: 385978272.0000 - mse: 385978272.0000 - val_loss: 343182848.0000 - val_mse: 343182848.0000\n",
      "Epoch 2/300\n",
      "611/611 [==============================] - 1s 2ms/step - loss: 232536336.0000 - mse: 232536336.0000 - val_loss: 355433248.0000 - val_mse: 355433248.0000\n",
      "Epoch 3/300\n",
      "611/611 [==============================] - 1s 2ms/step - loss: 232191056.0000 - mse: 232191056.0000 - val_loss: 349806720.0000 - val_mse: 349806720.0000\n",
      "Epoch 4/300\n",
      "611/611 [==============================] - 1s 2ms/step - loss: 231878672.0000 - mse: 231878672.0000 - val_loss: 329606848.0000 - val_mse: 329606848.0000\n",
      "Epoch 5/300\n",
      "611/611 [==============================] - 1s 2ms/step - loss: 231661088.0000 - mse: 231661088.0000 - val_loss: 332355648.0000 - val_mse: 332355648.0000\n",
      "Epoch 6/300\n",
      "611/611 [==============================] - 1s 2ms/step - loss: 231394224.0000 - mse: 231394224.0000 - val_loss: 345252160.0000 - val_mse: 345252160.0000\n",
      "Epoch 7/300\n",
      "611/611 [==============================] - 1s 2ms/step - loss: 231122224.0000 - mse: 231122224.0000 - val_loss: 317450432.0000 - val_mse: 317450432.0000\n",
      "Epoch 8/300\n",
      "611/611 [==============================] - 1s 2ms/step - loss: 230801248.0000 - mse: 230801248.0000 - val_loss: 329747328.0000 - val_mse: 329747328.0000\n",
      "Epoch 9/300\n",
      "611/611 [==============================] - 1s 2ms/step - loss: 230382496.0000 - mse: 230382496.0000 - val_loss: 345698592.0000 - val_mse: 345698592.0000\n",
      "Epoch 10/300\n",
      "611/611 [==============================] - 1s 2ms/step - loss: 230121952.0000 - mse: 230121952.0000 - val_loss: 330650784.0000 - val_mse: 330650784.0000\n",
      "Epoch 11/300\n",
      "611/611 [==============================] - 1s 2ms/step - loss: 229617456.0000 - mse: 229617456.0000 - val_loss: 332487616.0000 - val_mse: 332487616.0000\n",
      "Epoch 12/300\n",
      "611/611 [==============================] - 1s 2ms/step - loss: 229219456.0000 - mse: 229219456.0000 - val_loss: 341789088.0000 - val_mse: 341789088.0000\n",
      "Epoch 13/300\n",
      "611/611 [==============================] - 1s 2ms/step - loss: 228667360.0000 - mse: 228667360.0000 - val_loss: 314792256.0000 - val_mse: 314792256.0000\n",
      "Epoch 14/300\n",
      "611/611 [==============================] - 1s 2ms/step - loss: 228154448.0000 - mse: 228154448.0000 - val_loss: 328850784.0000 - val_mse: 328850784.0000\n",
      "Epoch 15/300\n",
      "611/611 [==============================] - 1s 2ms/step - loss: 227523504.0000 - mse: 227523504.0000 - val_loss: 318745728.0000 - val_mse: 318745728.0000\n",
      "Epoch 16/300\n",
      "611/611 [==============================] - 1s 2ms/step - loss: 226665152.0000 - mse: 226665152.0000 - val_loss: 322028928.0000 - val_mse: 322028928.0000\n",
      "Epoch 17/300\n",
      "611/611 [==============================] - 1s 2ms/step - loss: 225761408.0000 - mse: 225761408.0000 - val_loss: 335219328.0000 - val_mse: 335219328.0000\n",
      "Epoch 18/300\n",
      "611/611 [==============================] - 1s 2ms/step - loss: 224982496.0000 - mse: 224982496.0000 - val_loss: 309895520.0000 - val_mse: 309895520.0000\n",
      "Epoch 19/300\n",
      "611/611 [==============================] - 1s 2ms/step - loss: 223976960.0000 - mse: 223976960.0000 - val_loss: 304617024.0000 - val_mse: 304617024.0000\n",
      "Epoch 20/300\n",
      "611/611 [==============================] - 1s 2ms/step - loss: 222838032.0000 - mse: 222838032.0000 - val_loss: 309376768.0000 - val_mse: 309376768.0000\n",
      "Epoch 21/300\n",
      "611/611 [==============================] - 1s 2ms/step - loss: 221553760.0000 - mse: 221553760.0000 - val_loss: 339447200.0000 - val_mse: 339447200.0000\n",
      "Epoch 22/300\n",
      "611/611 [==============================] - 1s 2ms/step - loss: 219956400.0000 - mse: 219956400.0000 - val_loss: 320441344.0000 - val_mse: 320441344.0000\n",
      "Epoch 23/300\n",
      "611/611 [==============================] - 1s 2ms/step - loss: 218404592.0000 - mse: 218404592.0000 - val_loss: 343465920.0000 - val_mse: 343465920.0000\n",
      "Epoch 24/300\n",
      "611/611 [==============================] - 1s 2ms/step - loss: 216650128.0000 - mse: 216650128.0000 - val_loss: 337966560.0000 - val_mse: 337966560.0000\n",
      "Epoch 25/300\n",
      "611/611 [==============================] - 1s 2ms/step - loss: 214876144.0000 - mse: 214876144.0000 - val_loss: 312150368.0000 - val_mse: 312150368.0000\n",
      "Epoch 26/300\n",
      "611/611 [==============================] - 1s 2ms/step - loss: 213182672.0000 - mse: 213182672.0000 - val_loss: 321756992.0000 - val_mse: 321756992.0000\n",
      "Epoch 27/300\n",
      "611/611 [==============================] - 1s 2ms/step - loss: 211123872.0000 - mse: 211123872.0000 - val_loss: 343257056.0000 - val_mse: 343257056.0000\n",
      "Epoch 28/300\n",
      "611/611 [==============================] - 1s 2ms/step - loss: 209447344.0000 - mse: 209447344.0000 - val_loss: 349003008.0000 - val_mse: 349003008.0000\n",
      "Epoch 29/300\n",
      "611/611 [==============================] - 1s 2ms/step - loss: 207752848.0000 - mse: 207752848.0000 - val_loss: 339779200.0000 - val_mse: 339779200.0000\n",
      "Epoch 30/300\n",
      "611/611 [==============================] - 1s 2ms/step - loss: 205852752.0000 - mse: 205852752.0000 - val_loss: 303381728.0000 - val_mse: 303381728.0000\n",
      "Epoch 31/300\n",
      "611/611 [==============================] - 1s 2ms/step - loss: 204668176.0000 - mse: 204668176.0000 - val_loss: 329623552.0000 - val_mse: 329623552.0000\n",
      "Epoch 32/300\n",
      "611/611 [==============================] - 1s 2ms/step - loss: 203522784.0000 - mse: 203522784.0000 - val_loss: 280416192.0000 - val_mse: 280416192.0000\n",
      "Epoch 33/300\n",
      "611/611 [==============================] - 1s 2ms/step - loss: 202485168.0000 - mse: 202485168.0000 - val_loss: 330958400.0000 - val_mse: 330958400.0000\n",
      "Epoch 34/300\n",
      "611/611 [==============================] - 1s 2ms/step - loss: 201459744.0000 - mse: 201459744.0000 - val_loss: 294549248.0000 - val_mse: 294549248.0000\n",
      "Epoch 35/300\n",
      "611/611 [==============================] - 1s 2ms/step - loss: 200567120.0000 - mse: 200567120.0000 - val_loss: 390693664.0000 - val_mse: 390693664.0000\n",
      "Epoch 36/300\n",
      "611/611 [==============================] - 1s 2ms/step - loss: 200046016.0000 - mse: 200046016.0000 - val_loss: 316463264.0000 - val_mse: 316463264.0000\n",
      "Epoch 37/300\n",
      "611/611 [==============================] - 1s 2ms/step - loss: 199205408.0000 - mse: 199205408.0000 - val_loss: 362543136.0000 - val_mse: 362543136.0000\n",
      "Epoch 38/300\n",
      "611/611 [==============================] - 1s 2ms/step - loss: 198841152.0000 - mse: 198841152.0000 - val_loss: 302542208.0000 - val_mse: 302542208.0000\n",
      "Epoch 39/300\n",
      "611/611 [==============================] - 1s 2ms/step - loss: 198130144.0000 - mse: 198130144.0000 - val_loss: 289742720.0000 - val_mse: 289742720.0000\n",
      "Epoch 40/300\n",
      "611/611 [==============================] - 1s 2ms/step - loss: 197319424.0000 - mse: 197319424.0000 - val_loss: 293723008.0000 - val_mse: 293723008.0000\n",
      "Epoch 41/300\n",
      "611/611 [==============================] - 1s 2ms/step - loss: 196977984.0000 - mse: 196977984.0000 - val_loss: 324101376.0000 - val_mse: 324101376.0000\n",
      "Epoch 42/300\n",
      "611/611 [==============================] - 1s 2ms/step - loss: 196276080.0000 - mse: 196276080.0000 - val_loss: 303595456.0000 - val_mse: 303595456.0000\n",
      "Epoch 43/300\n",
      "611/611 [==============================] - 1s 2ms/step - loss: 195878592.0000 - mse: 195878592.0000 - val_loss: 318385888.0000 - val_mse: 318385888.0000\n",
      "Epoch 44/300\n",
      "611/611 [==============================] - 1s 2ms/step - loss: 195007264.0000 - mse: 195007264.0000 - val_loss: 289198112.0000 - val_mse: 289198112.0000\n",
      "Epoch 45/300\n",
      "611/611 [==============================] - 1s 2ms/step - loss: 194813728.0000 - mse: 194813728.0000 - val_loss: 362561664.0000 - val_mse: 362561664.0000\n",
      "Epoch 46/300\n",
      "611/611 [==============================] - 1s 2ms/step - loss: 194107040.0000 - mse: 194107040.0000 - val_loss: 271246272.0000 - val_mse: 271246272.0000\n",
      "Epoch 47/300\n",
      "611/611 [==============================] - 1s 2ms/step - loss: 193703392.0000 - mse: 193703392.0000 - val_loss: 299639776.0000 - val_mse: 299639776.0000\n",
      "Epoch 48/300\n",
      "611/611 [==============================] - 1s 2ms/step - loss: 193172896.0000 - mse: 193172896.0000 - val_loss: 336522080.0000 - val_mse: 336522080.0000\n",
      "Epoch 49/300\n",
      "611/611 [==============================] - 1s 2ms/step - loss: 192949520.0000 - mse: 192949520.0000 - val_loss: 376472288.0000 - val_mse: 376472288.0000\n",
      "Epoch 50/300\n"
     ]
    },
    {
     "name": "stdout",
     "output_type": "stream",
     "text": [
      "611/611 [==============================] - 1s 2ms/step - loss: 192064400.0000 - mse: 192064400.0000 - val_loss: 344855584.0000 - val_mse: 344855584.0000\n",
      "Epoch 51/300\n",
      "611/611 [==============================] - 1s 2ms/step - loss: 191613136.0000 - mse: 191613136.0000 - val_loss: 349736704.0000 - val_mse: 349736704.0000\n",
      "Epoch 52/300\n",
      "611/611 [==============================] - 1s 2ms/step - loss: 191148384.0000 - mse: 191148384.0000 - val_loss: 349217056.0000 - val_mse: 349217056.0000\n",
      "Epoch 53/300\n",
      "611/611 [==============================] - 1s 2ms/step - loss: 190640032.0000 - mse: 190640032.0000 - val_loss: 286588448.0000 - val_mse: 286588448.0000\n",
      "Epoch 54/300\n",
      "611/611 [==============================] - 1s 2ms/step - loss: 190415776.0000 - mse: 190415776.0000 - val_loss: 307616768.0000 - val_mse: 307616768.0000\n",
      "Epoch 55/300\n",
      "611/611 [==============================] - 1s 2ms/step - loss: 189639056.0000 - mse: 189639056.0000 - val_loss: 298677216.0000 - val_mse: 298677216.0000\n",
      "Epoch 56/300\n",
      "611/611 [==============================] - 1s 2ms/step - loss: 189328544.0000 - mse: 189328544.0000 - val_loss: 342163360.0000 - val_mse: 342163360.0000\n",
      "Epoch 57/300\n",
      "611/611 [==============================] - 1s 2ms/step - loss: 189058144.0000 - mse: 189058144.0000 - val_loss: 343794400.0000 - val_mse: 343794400.0000\n",
      "Epoch 58/300\n",
      "611/611 [==============================] - 1s 2ms/step - loss: 188423472.0000 - mse: 188423472.0000 - val_loss: 306006752.0000 - val_mse: 306006752.0000\n",
      "Epoch 59/300\n",
      "611/611 [==============================] - 1s 2ms/step - loss: 188228224.0000 - mse: 188228224.0000 - val_loss: 262206400.0000 - val_mse: 262206400.0000\n",
      "Epoch 60/300\n",
      "611/611 [==============================] - 1s 2ms/step - loss: 187957536.0000 - mse: 187957536.0000 - val_loss: 276975584.0000 - val_mse: 276975584.0000\n",
      "Epoch 61/300\n",
      "611/611 [==============================] - 1s 2ms/step - loss: 187445456.0000 - mse: 187445456.0000 - val_loss: 350949312.0000 - val_mse: 350949312.0000\n",
      "Epoch 62/300\n",
      "611/611 [==============================] - 1s 2ms/step - loss: 187170992.0000 - mse: 187170992.0000 - val_loss: 306058368.0000 - val_mse: 306058368.0000\n",
      "Epoch 63/300\n",
      "611/611 [==============================] - 1s 2ms/step - loss: 186755376.0000 - mse: 186755376.0000 - val_loss: 374906656.0000 - val_mse: 374906656.0000\n",
      "Epoch 64/300\n",
      "611/611 [==============================] - 1s 2ms/step - loss: 186460176.0000 - mse: 186460176.0000 - val_loss: 305834080.0000 - val_mse: 305834080.0000\n",
      "Epoch 65/300\n",
      "611/611 [==============================] - 1s 2ms/step - loss: 186127072.0000 - mse: 186127072.0000 - val_loss: 359433824.0000 - val_mse: 359433824.0000\n",
      "Epoch 66/300\n",
      "611/611 [==============================] - 1s 2ms/step - loss: 185555680.0000 - mse: 185555680.0000 - val_loss: 375361568.0000 - val_mse: 375361568.0000\n",
      "Epoch 67/300\n",
      "611/611 [==============================] - 1s 2ms/step - loss: 185221440.0000 - mse: 185221440.0000 - val_loss: 303513536.0000 - val_mse: 303513536.0000\n",
      "Epoch 68/300\n",
      "611/611 [==============================] - 1s 2ms/step - loss: 185028992.0000 - mse: 185028992.0000 - val_loss: 340284992.0000 - val_mse: 340284992.0000\n",
      "Epoch 69/300\n",
      "611/611 [==============================] - 1s 2ms/step - loss: 184465552.0000 - mse: 184465552.0000 - val_loss: 244692016.0000 - val_mse: 244692016.0000\n",
      "Epoch 70/300\n",
      "611/611 [==============================] - 1s 2ms/step - loss: 184448800.0000 - mse: 184448800.0000 - val_loss: 281146560.0000 - val_mse: 281146560.0000\n",
      "Epoch 71/300\n",
      "611/611 [==============================] - 1s 2ms/step - loss: 184284496.0000 - mse: 184284496.0000 - val_loss: 286093440.0000 - val_mse: 286093440.0000\n",
      "Epoch 72/300\n",
      "611/611 [==============================] - 1s 2ms/step - loss: 184025232.0000 - mse: 184025232.0000 - val_loss: 310186464.0000 - val_mse: 310186464.0000\n",
      "Epoch 73/300\n",
      "611/611 [==============================] - 1s 2ms/step - loss: 183575376.0000 - mse: 183575376.0000 - val_loss: 275606112.0000 - val_mse: 275606112.0000\n",
      "Epoch 74/300\n",
      "611/611 [==============================] - 1s 2ms/step - loss: 183525056.0000 - mse: 183525056.0000 - val_loss: 282035392.0000 - val_mse: 282035392.0000\n",
      "Epoch 75/300\n",
      "611/611 [==============================] - 1s 2ms/step - loss: 183281072.0000 - mse: 183281072.0000 - val_loss: 312857920.0000 - val_mse: 312857920.0000\n",
      "Epoch 76/300\n",
      "611/611 [==============================] - 1s 2ms/step - loss: 182994032.0000 - mse: 182994032.0000 - val_loss: 386609312.0000 - val_mse: 386609312.0000\n",
      "Epoch 77/300\n",
      "611/611 [==============================] - 1s 2ms/step - loss: 182522624.0000 - mse: 182522624.0000 - val_loss: 253950928.0000 - val_mse: 253950928.0000\n",
      "Epoch 78/300\n",
      "611/611 [==============================] - 1s 2ms/step - loss: 182415088.0000 - mse: 182415088.0000 - val_loss: 266524352.0000 - val_mse: 266524352.0000\n",
      "Epoch 79/300\n",
      "611/611 [==============================] - 1s 2ms/step - loss: 182098656.0000 - mse: 182098656.0000 - val_loss: 287223360.0000 - val_mse: 287223360.0000\n",
      "Epoch 80/300\n",
      "611/611 [==============================] - 1s 2ms/step - loss: 182016000.0000 - mse: 182016000.0000 - val_loss: 284984256.0000 - val_mse: 284984256.0000\n",
      "Epoch 81/300\n",
      "611/611 [==============================] - 1s 2ms/step - loss: 181892560.0000 - mse: 181892560.0000 - val_loss: 271796768.0000 - val_mse: 271796768.0000\n",
      "Epoch 82/300\n",
      "611/611 [==============================] - 1s 2ms/step - loss: 181765360.0000 - mse: 181765360.0000 - val_loss: 303235040.0000 - val_mse: 303235040.0000\n",
      "Epoch 83/300\n",
      "611/611 [==============================] - 1s 2ms/step - loss: 181570512.0000 - mse: 181570512.0000 - val_loss: 246552528.0000 - val_mse: 246552528.0000\n",
      "Epoch 84/300\n",
      "611/611 [==============================] - 1s 2ms/step - loss: 181633312.0000 - mse: 181633312.0000 - val_loss: 244052576.0000 - val_mse: 244052576.0000\n",
      "Epoch 85/300\n",
      "611/611 [==============================] - 1s 2ms/step - loss: 181250224.0000 - mse: 181250224.0000 - val_loss: 324895360.0000 - val_mse: 324895360.0000\n",
      "Epoch 86/300\n",
      "611/611 [==============================] - 1s 2ms/step - loss: 180934400.0000 - mse: 180934400.0000 - val_loss: 251600288.0000 - val_mse: 251600288.0000\n",
      "Epoch 87/300\n",
      "611/611 [==============================] - 1s 2ms/step - loss: 180683552.0000 - mse: 180683552.0000 - val_loss: 348793664.0000 - val_mse: 348793664.0000\n",
      "Epoch 88/300\n",
      "611/611 [==============================] - 1s 2ms/step - loss: 180392944.0000 - mse: 180392944.0000 - val_loss: 240715248.0000 - val_mse: 240715248.0000\n",
      "Epoch 89/300\n",
      "611/611 [==============================] - 1s 2ms/step - loss: 180568816.0000 - mse: 180568816.0000 - val_loss: 286233344.0000 - val_mse: 286233344.0000\n",
      "Epoch 90/300\n",
      "611/611 [==============================] - 1s 2ms/step - loss: 180232816.0000 - mse: 180232816.0000 - val_loss: 285591456.0000 - val_mse: 285591456.0000\n",
      "Epoch 91/300\n",
      "611/611 [==============================] - 1s 2ms/step - loss: 180028000.0000 - mse: 180028000.0000 - val_loss: 285335456.0000 - val_mse: 285335456.0000\n",
      "Epoch 92/300\n",
      "611/611 [==============================] - 1s 2ms/step - loss: 180081328.0000 - mse: 180081328.0000 - val_loss: 250375456.0000 - val_mse: 250375456.0000\n",
      "Epoch 93/300\n",
      "611/611 [==============================] - 1s 2ms/step - loss: 179788896.0000 - mse: 179788896.0000 - val_loss: 255711440.0000 - val_mse: 255711440.0000\n",
      "Epoch 94/300\n",
      "611/611 [==============================] - 1s 2ms/step - loss: 179681920.0000 - mse: 179681920.0000 - val_loss: 332278272.0000 - val_mse: 332278272.0000\n",
      "Epoch 95/300\n",
      "611/611 [==============================] - 1s 2ms/step - loss: 179297744.0000 - mse: 179297744.0000 - val_loss: 288879328.0000 - val_mse: 288879328.0000\n",
      "Epoch 96/300\n",
      "611/611 [==============================] - 1s 2ms/step - loss: 179704560.0000 - mse: 179704560.0000 - val_loss: 281555872.0000 - val_mse: 281555872.0000\n",
      "Epoch 97/300\n",
      "611/611 [==============================] - 1s 2ms/step - loss: 179407600.0000 - mse: 179407600.0000 - val_loss: 257339792.0000 - val_mse: 257339792.0000\n",
      "Epoch 98/300\n",
      "611/611 [==============================] - 1s 2ms/step - loss: 178953808.0000 - mse: 178953808.0000 - val_loss: 295344288.0000 - val_mse: 295344288.0000\n",
      "Epoch 99/300\n"
     ]
    },
    {
     "name": "stdout",
     "output_type": "stream",
     "text": [
      "611/611 [==============================] - 1s 2ms/step - loss: 178852400.0000 - mse: 178852400.0000 - val_loss: 236745552.0000 - val_mse: 236745552.0000\n",
      "Epoch 100/300\n",
      "611/611 [==============================] - 1s 2ms/step - loss: 179056160.0000 - mse: 179056160.0000 - val_loss: 256625440.0000 - val_mse: 256625440.0000\n",
      "Epoch 101/300\n",
      "611/611 [==============================] - 1s 2ms/step - loss: 178609648.0000 - mse: 178609648.0000 - val_loss: 306515712.0000 - val_mse: 306515712.0000\n",
      "Epoch 102/300\n",
      "611/611 [==============================] - 1s 2ms/step - loss: 178702800.0000 - mse: 178702800.0000 - val_loss: 238909088.0000 - val_mse: 238909088.0000\n",
      "Epoch 103/300\n",
      "611/611 [==============================] - 1s 2ms/step - loss: 178937936.0000 - mse: 178937936.0000 - val_loss: 255113424.0000 - val_mse: 255113424.0000\n",
      "Epoch 104/300\n",
      "611/611 [==============================] - 1s 2ms/step - loss: 178558736.0000 - mse: 178558736.0000 - val_loss: 330672096.0000 - val_mse: 330672096.0000\n",
      "Epoch 105/300\n",
      "611/611 [==============================] - 1s 2ms/step - loss: 178286464.0000 - mse: 178286464.0000 - val_loss: 249234848.0000 - val_mse: 249234848.0000\n",
      "Epoch 106/300\n",
      "611/611 [==============================] - 1s 2ms/step - loss: 177956112.0000 - mse: 177956112.0000 - val_loss: 240116608.0000 - val_mse: 240116608.0000\n",
      "Epoch 107/300\n",
      "611/611 [==============================] - 1s 2ms/step - loss: 177707840.0000 - mse: 177707840.0000 - val_loss: 318366848.0000 - val_mse: 318366848.0000\n",
      "Epoch 108/300\n",
      "611/611 [==============================] - 1s 2ms/step - loss: 177798240.0000 - mse: 177798240.0000 - val_loss: 266296080.0000 - val_mse: 266296080.0000\n",
      "Epoch 109/300\n",
      "611/611 [==============================] - 1s 2ms/step - loss: 177663104.0000 - mse: 177663104.0000 - val_loss: 304188832.0000 - val_mse: 304188832.0000\n",
      "Epoch 110/300\n",
      "611/611 [==============================] - 1s 2ms/step - loss: 177456240.0000 - mse: 177456240.0000 - val_loss: 303939200.0000 - val_mse: 303939200.0000\n",
      "Epoch 111/300\n",
      "611/611 [==============================] - 1s 2ms/step - loss: 177562320.0000 - mse: 177562320.0000 - val_loss: 249492320.0000 - val_mse: 249492320.0000\n",
      "Epoch 112/300\n",
      "611/611 [==============================] - 1s 2ms/step - loss: 177354848.0000 - mse: 177354848.0000 - val_loss: 365299392.0000 - val_mse: 365299392.0000\n",
      "Epoch 113/300\n",
      "611/611 [==============================] - 1s 2ms/step - loss: 177084976.0000 - mse: 177084976.0000 - val_loss: 277832480.0000 - val_mse: 277832480.0000\n",
      "Epoch 114/300\n",
      "611/611 [==============================] - 1s 2ms/step - loss: 177107360.0000 - mse: 177107360.0000 - val_loss: 340518080.0000 - val_mse: 340518080.0000\n",
      "Epoch 115/300\n",
      "611/611 [==============================] - 1s 2ms/step - loss: 176813952.0000 - mse: 176813952.0000 - val_loss: 309873248.0000 - val_mse: 309873248.0000\n",
      "Epoch 116/300\n",
      "611/611 [==============================] - 1s 2ms/step - loss: 176984992.0000 - mse: 176984992.0000 - val_loss: 343266784.0000 - val_mse: 343266784.0000\n",
      "Epoch 117/300\n",
      "611/611 [==============================] - 1s 2ms/step - loss: 176676976.0000 - mse: 176676976.0000 - val_loss: 336411488.0000 - val_mse: 336411488.0000\n",
      "Epoch 118/300\n",
      "611/611 [==============================] - 1s 2ms/step - loss: 176718944.0000 - mse: 176718944.0000 - val_loss: 268481760.0000 - val_mse: 268481760.0000\n",
      "Epoch 119/300\n",
      "611/611 [==============================] - 1s 2ms/step - loss: 176630880.0000 - mse: 176630880.0000 - val_loss: 341456832.0000 - val_mse: 341456832.0000\n",
      "Epoch 120/300\n",
      "611/611 [==============================] - 1s 2ms/step - loss: 176762832.0000 - mse: 176762832.0000 - val_loss: 279728544.0000 - val_mse: 279728544.0000\n",
      "Epoch 121/300\n",
      "611/611 [==============================] - 1s 2ms/step - loss: 176727152.0000 - mse: 176727152.0000 - val_loss: 360977472.0000 - val_mse: 360977472.0000\n",
      "Epoch 122/300\n",
      "611/611 [==============================] - 1s 2ms/step - loss: 176791248.0000 - mse: 176791248.0000 - val_loss: 289449824.0000 - val_mse: 289449824.0000\n",
      "Epoch 123/300\n",
      "611/611 [==============================] - 1s 2ms/step - loss: 176292272.0000 - mse: 176292272.0000 - val_loss: 236756032.0000 - val_mse: 236756032.0000\n",
      "Epoch 124/300\n",
      "611/611 [==============================] - 1s 2ms/step - loss: 176454144.0000 - mse: 176454144.0000 - val_loss: 287515808.0000 - val_mse: 287515808.0000\n",
      "Epoch 125/300\n",
      "611/611 [==============================] - 1s 2ms/step - loss: 176109120.0000 - mse: 176109120.0000 - val_loss: 297099776.0000 - val_mse: 297099776.0000\n",
      "Epoch 126/300\n",
      "611/611 [==============================] - 1s 2ms/step - loss: 175876944.0000 - mse: 175876944.0000 - val_loss: 231671152.0000 - val_mse: 231671152.0000\n",
      "Epoch 127/300\n",
      "611/611 [==============================] - 1s 2ms/step - loss: 175678384.0000 - mse: 175678384.0000 - val_loss: 306484704.0000 - val_mse: 306484704.0000\n",
      "Epoch 128/300\n",
      "611/611 [==============================] - 1s 2ms/step - loss: 175700800.0000 - mse: 175700800.0000 - val_loss: 259592192.0000 - val_mse: 259592192.0000\n",
      "Epoch 129/300\n",
      "611/611 [==============================] - 1s 2ms/step - loss: 175724272.0000 - mse: 175724272.0000 - val_loss: 289976576.0000 - val_mse: 289976576.0000\n",
      "Epoch 130/300\n",
      "611/611 [==============================] - 1s 2ms/step - loss: 175798592.0000 - mse: 175798592.0000 - val_loss: 251373968.0000 - val_mse: 251373968.0000\n",
      "Epoch 131/300\n",
      "611/611 [==============================] - 1s 2ms/step - loss: 175865248.0000 - mse: 175865248.0000 - val_loss: 320322496.0000 - val_mse: 320322496.0000\n",
      "Epoch 132/300\n",
      "611/611 [==============================] - 1s 2ms/step - loss: 175614656.0000 - mse: 175614656.0000 - val_loss: 277014880.0000 - val_mse: 277014880.0000\n",
      "Epoch 133/300\n",
      "611/611 [==============================] - 1s 2ms/step - loss: 175414512.0000 - mse: 175414512.0000 - val_loss: 276909088.0000 - val_mse: 276909088.0000\n",
      "Epoch 134/300\n",
      "611/611 [==============================] - 1s 2ms/step - loss: 175554160.0000 - mse: 175554160.0000 - val_loss: 315315104.0000 - val_mse: 315315104.0000\n",
      "Epoch 135/300\n",
      "611/611 [==============================] - 1s 2ms/step - loss: 175188208.0000 - mse: 175188208.0000 - val_loss: 248019312.0000 - val_mse: 248019312.0000\n",
      "Epoch 136/300\n",
      "611/611 [==============================] - 1s 2ms/step - loss: 175188416.0000 - mse: 175188416.0000 - val_loss: 359178368.0000 - val_mse: 359178368.0000\n",
      "Epoch 137/300\n",
      "611/611 [==============================] - 1s 2ms/step - loss: 175338160.0000 - mse: 175338160.0000 - val_loss: 254405488.0000 - val_mse: 254405488.0000\n",
      "Epoch 138/300\n",
      "611/611 [==============================] - 1s 2ms/step - loss: 174916928.0000 - mse: 174916928.0000 - val_loss: 372860160.0000 - val_mse: 372860160.0000\n",
      "Epoch 139/300\n",
      "611/611 [==============================] - 1s 2ms/step - loss: 175174048.0000 - mse: 175174048.0000 - val_loss: 308272832.0000 - val_mse: 308272832.0000\n",
      "Epoch 140/300\n",
      "611/611 [==============================] - 1s 2ms/step - loss: 174711008.0000 - mse: 174711008.0000 - val_loss: 337542176.0000 - val_mse: 337542176.0000\n",
      "Epoch 141/300\n",
      "611/611 [==============================] - 1s 2ms/step - loss: 174438224.0000 - mse: 174438224.0000 - val_loss: 275634624.0000 - val_mse: 275634624.0000\n",
      "Epoch 142/300\n",
      "611/611 [==============================] - 1s 2ms/step - loss: 174719872.0000 - mse: 174719872.0000 - val_loss: 294529216.0000 - val_mse: 294529216.0000\n",
      "Epoch 143/300\n",
      "611/611 [==============================] - 1s 2ms/step - loss: 174583168.0000 - mse: 174583168.0000 - val_loss: 262608320.0000 - val_mse: 262608320.0000\n",
      "Epoch 144/300\n",
      "611/611 [==============================] - 1s 2ms/step - loss: 174430400.0000 - mse: 174430400.0000 - val_loss: 251158032.0000 - val_mse: 251158032.0000\n",
      "Epoch 145/300\n",
      "611/611 [==============================] - 1s 2ms/step - loss: 174505840.0000 - mse: 174505840.0000 - val_loss: 260207008.0000 - val_mse: 260207008.0000\n",
      "Epoch 146/300\n",
      "611/611 [==============================] - 1s 2ms/step - loss: 174316208.0000 - mse: 174316208.0000 - val_loss: 294577088.0000 - val_mse: 294577088.0000\n",
      "Epoch 147/300\n",
      "611/611 [==============================] - 1s 2ms/step - loss: 174591280.0000 - mse: 174591280.0000 - val_loss: 342437824.0000 - val_mse: 342437824.0000\n",
      "Epoch 148/300\n"
     ]
    },
    {
     "name": "stdout",
     "output_type": "stream",
     "text": [
      "611/611 [==============================] - 1s 2ms/step - loss: 174179552.0000 - mse: 174179552.0000 - val_loss: 241481584.0000 - val_mse: 241481584.0000\n",
      "Epoch 149/300\n",
      "611/611 [==============================] - 1s 2ms/step - loss: 174434016.0000 - mse: 174434016.0000 - val_loss: 281358464.0000 - val_mse: 281358464.0000\n",
      "Epoch 150/300\n",
      "611/611 [==============================] - 1s 2ms/step - loss: 174276336.0000 - mse: 174276336.0000 - val_loss: 229961856.0000 - val_mse: 229961856.0000\n",
      "Epoch 151/300\n",
      "611/611 [==============================] - 1s 2ms/step - loss: 174412480.0000 - mse: 174412480.0000 - val_loss: 359170176.0000 - val_mse: 359170176.0000\n",
      "Epoch 152/300\n",
      "611/611 [==============================] - 1s 2ms/step - loss: 173937248.0000 - mse: 173937248.0000 - val_loss: 260263312.0000 - val_mse: 260263312.0000\n",
      "Epoch 153/300\n",
      "611/611 [==============================] - 1s 2ms/step - loss: 174018688.0000 - mse: 174018688.0000 - val_loss: 297452928.0000 - val_mse: 297452928.0000\n",
      "Epoch 154/300\n",
      "611/611 [==============================] - 1s 2ms/step - loss: 173813360.0000 - mse: 173813360.0000 - val_loss: 345892000.0000 - val_mse: 345892000.0000\n",
      "Epoch 155/300\n",
      "611/611 [==============================] - 1s 2ms/step - loss: 173597088.0000 - mse: 173597088.0000 - val_loss: 292257504.0000 - val_mse: 292257504.0000\n",
      "Epoch 156/300\n",
      "611/611 [==============================] - 1s 2ms/step - loss: 173656000.0000 - mse: 173656000.0000 - val_loss: 266029648.0000 - val_mse: 266029648.0000\n",
      "Epoch 157/300\n",
      "611/611 [==============================] - 1s 2ms/step - loss: 173787696.0000 - mse: 173787696.0000 - val_loss: 289291712.0000 - val_mse: 289291712.0000\n",
      "Epoch 158/300\n",
      "611/611 [==============================] - 1s 2ms/step - loss: 173750672.0000 - mse: 173750672.0000 - val_loss: 292585504.0000 - val_mse: 292585504.0000\n",
      "Epoch 159/300\n",
      "611/611 [==============================] - 1s 2ms/step - loss: 173819408.0000 - mse: 173819408.0000 - val_loss: 384908160.0000 - val_mse: 384908160.0000\n",
      "Epoch 160/300\n",
      "611/611 [==============================] - 1s 2ms/step - loss: 173558704.0000 - mse: 173558704.0000 - val_loss: 292818624.0000 - val_mse: 292818624.0000\n",
      "Epoch 161/300\n",
      "611/611 [==============================] - 1s 2ms/step - loss: 173405632.0000 - mse: 173405632.0000 - val_loss: 286190304.0000 - val_mse: 286190304.0000\n",
      "Epoch 162/300\n",
      "611/611 [==============================] - 1s 2ms/step - loss: 173362880.0000 - mse: 173362880.0000 - val_loss: 278296032.0000 - val_mse: 278296032.0000\n",
      "Epoch 163/300\n",
      "611/611 [==============================] - 1s 2ms/step - loss: 173069024.0000 - mse: 173069024.0000 - val_loss: 307411136.0000 - val_mse: 307411136.0000\n",
      "Epoch 164/300\n",
      "611/611 [==============================] - 1s 2ms/step - loss: 173370944.0000 - mse: 173370944.0000 - val_loss: 258259744.0000 - val_mse: 258259744.0000\n",
      "Epoch 165/300\n",
      "611/611 [==============================] - 1s 2ms/step - loss: 172984784.0000 - mse: 172984784.0000 - val_loss: 305695744.0000 - val_mse: 305695744.0000\n",
      "Epoch 166/300\n",
      "611/611 [==============================] - 1s 2ms/step - loss: 173040880.0000 - mse: 173040880.0000 - val_loss: 313751488.0000 - val_mse: 313751488.0000\n",
      "Epoch 167/300\n",
      "611/611 [==============================] - 1s 2ms/step - loss: 172895184.0000 - mse: 172895184.0000 - val_loss: 246079008.0000 - val_mse: 246079008.0000\n",
      "Epoch 168/300\n",
      "611/611 [==============================] - 1s 2ms/step - loss: 172737232.0000 - mse: 172737232.0000 - val_loss: 289989344.0000 - val_mse: 289989344.0000\n",
      "Epoch 169/300\n",
      "611/611 [==============================] - 1s 2ms/step - loss: 172678048.0000 - mse: 172678048.0000 - val_loss: 278289376.0000 - val_mse: 278289376.0000\n",
      "Epoch 170/300\n",
      "611/611 [==============================] - 1s 2ms/step - loss: 172495376.0000 - mse: 172495376.0000 - val_loss: 246107456.0000 - val_mse: 246107456.0000\n",
      "Epoch 171/300\n",
      "611/611 [==============================] - 1s 2ms/step - loss: 172563040.0000 - mse: 172563040.0000 - val_loss: 268226896.0000 - val_mse: 268226896.0000\n",
      "Epoch 172/300\n",
      "611/611 [==============================] - 1s 2ms/step - loss: 172546752.0000 - mse: 172546752.0000 - val_loss: 321521024.0000 - val_mse: 321521024.0000\n",
      "Epoch 173/300\n",
      "611/611 [==============================] - 1s 2ms/step - loss: 172638496.0000 - mse: 172638496.0000 - val_loss: 346969056.0000 - val_mse: 346969056.0000\n",
      "Epoch 174/300\n",
      "611/611 [==============================] - 1s 2ms/step - loss: 172339216.0000 - mse: 172339216.0000 - val_loss: 240994128.0000 - val_mse: 240994128.0000\n",
      "Epoch 175/300\n",
      "611/611 [==============================] - 1s 2ms/step - loss: 172487872.0000 - mse: 172487872.0000 - val_loss: 307176416.0000 - val_mse: 307176416.0000\n",
      "Epoch 176/300\n",
      "611/611 [==============================] - 1s 2ms/step - loss: 172251568.0000 - mse: 172251568.0000 - val_loss: 292648224.0000 - val_mse: 292648224.0000\n",
      "Epoch 177/300\n",
      "611/611 [==============================] - 1s 2ms/step - loss: 172076368.0000 - mse: 172076368.0000 - val_loss: 334680512.0000 - val_mse: 334680512.0000\n",
      "Epoch 178/300\n",
      "611/611 [==============================] - 1s 2ms/step - loss: 172102016.0000 - mse: 172102016.0000 - val_loss: 260065824.0000 - val_mse: 260065824.0000\n",
      "Epoch 179/300\n",
      "611/611 [==============================] - 1s 2ms/step - loss: 171996304.0000 - mse: 171996304.0000 - val_loss: 320801536.0000 - val_mse: 320801536.0000\n",
      "Epoch 180/300\n",
      "611/611 [==============================] - 1s 2ms/step - loss: 172040288.0000 - mse: 172040288.0000 - val_loss: 293497792.0000 - val_mse: 293497792.0000\n",
      "Epoch 181/300\n",
      "611/611 [==============================] - 1s 2ms/step - loss: 171880960.0000 - mse: 171880960.0000 - val_loss: 270948032.0000 - val_mse: 270948032.0000\n",
      "Epoch 182/300\n",
      "611/611 [==============================] - 1s 2ms/step - loss: 171809984.0000 - mse: 171809984.0000 - val_loss: 313499328.0000 - val_mse: 313499328.0000\n",
      "Epoch 183/300\n",
      "611/611 [==============================] - 1s 2ms/step - loss: 171846560.0000 - mse: 171846560.0000 - val_loss: 289351200.0000 - val_mse: 289351200.0000\n",
      "Epoch 184/300\n",
      "611/611 [==============================] - 1s 2ms/step - loss: 171786896.0000 - mse: 171786896.0000 - val_loss: 337934816.0000 - val_mse: 337934816.0000\n",
      "Epoch 185/300\n",
      "611/611 [==============================] - 1s 2ms/step - loss: 171793936.0000 - mse: 171793936.0000 - val_loss: 260136736.0000 - val_mse: 260136736.0000\n",
      "Epoch 186/300\n",
      "611/611 [==============================] - 1s 2ms/step - loss: 171718928.0000 - mse: 171718928.0000 - val_loss: 380936096.0000 - val_mse: 380936096.0000\n",
      "Epoch 187/300\n",
      "611/611 [==============================] - 1s 2ms/step - loss: 171348912.0000 - mse: 171348912.0000 - val_loss: 390155552.0000 - val_mse: 390155552.0000\n",
      "Epoch 188/300\n",
      "611/611 [==============================] - 1s 2ms/step - loss: 171539792.0000 - mse: 171539792.0000 - val_loss: 284453984.0000 - val_mse: 284453984.0000\n",
      "Epoch 189/300\n",
      "611/611 [==============================] - 1s 2ms/step - loss: 171291424.0000 - mse: 171291424.0000 - val_loss: 343915104.0000 - val_mse: 343915104.0000\n",
      "Epoch 190/300\n",
      "611/611 [==============================] - 1s 2ms/step - loss: 171118672.0000 - mse: 171118672.0000 - val_loss: 272737024.0000 - val_mse: 272737024.0000\n",
      "Epoch 191/300\n",
      "611/611 [==============================] - 1s 2ms/step - loss: 171153472.0000 - mse: 171153472.0000 - val_loss: 280414752.0000 - val_mse: 280414752.0000\n",
      "Epoch 192/300\n",
      "611/611 [==============================] - 1s 2ms/step - loss: 171313296.0000 - mse: 171313296.0000 - val_loss: 233074000.0000 - val_mse: 233074000.0000\n",
      "Epoch 193/300\n",
      "611/611 [==============================] - 1s 2ms/step - loss: 170835632.0000 - mse: 170835632.0000 - val_loss: 309598560.0000 - val_mse: 309598560.0000\n",
      "Epoch 194/300\n",
      "611/611 [==============================] - 1s 2ms/step - loss: 170920688.0000 - mse: 170920688.0000 - val_loss: 348003648.0000 - val_mse: 348003648.0000\n",
      "Epoch 195/300\n",
      "611/611 [==============================] - 1s 2ms/step - loss: 170791040.0000 - mse: 170791040.0000 - val_loss: 318256256.0000 - val_mse: 318256256.0000\n",
      "Epoch 196/300\n",
      "611/611 [==============================] - 1s 2ms/step - loss: 170989712.0000 - mse: 170989712.0000 - val_loss: 268178800.0000 - val_mse: 268178800.0000\n",
      "Epoch 197/300\n"
     ]
    },
    {
     "name": "stdout",
     "output_type": "stream",
     "text": [
      "611/611 [==============================] - 1s 2ms/step - loss: 170267200.0000 - mse: 170267200.0000 - val_loss: 300088736.0000 - val_mse: 300088736.0000\n",
      "Epoch 198/300\n",
      "611/611 [==============================] - 1s 2ms/step - loss: 170894640.0000 - mse: 170894640.0000 - val_loss: 344175232.0000 - val_mse: 344175232.0000\n",
      "Epoch 199/300\n",
      "611/611 [==============================] - 1s 2ms/step - loss: 170093312.0000 - mse: 170093312.0000 - val_loss: 245966464.0000 - val_mse: 245966464.0000\n",
      "Epoch 200/300\n",
      "611/611 [==============================] - 1s 2ms/step - loss: 170520560.0000 - mse: 170520560.0000 - val_loss: 237434112.0000 - val_mse: 237434112.0000\n",
      "Epoch 201/300\n",
      "611/611 [==============================] - 1s 2ms/step - loss: 170685936.0000 - mse: 170685936.0000 - val_loss: 235448720.0000 - val_mse: 235448720.0000\n",
      "Epoch 202/300\n",
      "611/611 [==============================] - 1s 2ms/step - loss: 170468352.0000 - mse: 170468352.0000 - val_loss: 254630800.0000 - val_mse: 254630800.0000\n",
      "Epoch 203/300\n",
      "611/611 [==============================] - 1s 2ms/step - loss: 170146656.0000 - mse: 170146656.0000 - val_loss: 349653184.0000 - val_mse: 349653184.0000\n",
      "Epoch 204/300\n",
      "611/611 [==============================] - 1s 2ms/step - loss: 170085728.0000 - mse: 170085728.0000 - val_loss: 242815264.0000 - val_mse: 242815264.0000\n",
      "Epoch 205/300\n",
      "611/611 [==============================] - 1s 2ms/step - loss: 169962896.0000 - mse: 169962896.0000 - val_loss: 316703264.0000 - val_mse: 316703264.0000\n",
      "Epoch 206/300\n",
      "611/611 [==============================] - 1s 2ms/step - loss: 169704144.0000 - mse: 169704144.0000 - val_loss: 283386208.0000 - val_mse: 283386208.0000\n",
      "Epoch 207/300\n",
      "611/611 [==============================] - 1s 2ms/step - loss: 169739392.0000 - mse: 169739392.0000 - val_loss: 336084192.0000 - val_mse: 336084192.0000\n",
      "Epoch 208/300\n",
      "611/611 [==============================] - 1s 2ms/step - loss: 170124480.0000 - mse: 170124480.0000 - val_loss: 254795392.0000 - val_mse: 254795392.0000\n",
      "Epoch 209/300\n",
      "611/611 [==============================] - 1s 2ms/step - loss: 169771520.0000 - mse: 169771520.0000 - val_loss: 276301344.0000 - val_mse: 276301344.0000\n",
      "Epoch 210/300\n",
      "611/611 [==============================] - 1s 2ms/step - loss: 169630144.0000 - mse: 169630144.0000 - val_loss: 224141952.0000 - val_mse: 224141952.0000\n",
      "Epoch 211/300\n",
      "611/611 [==============================] - 1s 2ms/step - loss: 169771488.0000 - mse: 169771488.0000 - val_loss: 241598288.0000 - val_mse: 241598288.0000\n",
      "Epoch 212/300\n",
      "611/611 [==============================] - 1s 2ms/step - loss: 169382256.0000 - mse: 169382256.0000 - val_loss: 244850880.0000 - val_mse: 244850880.0000\n",
      "Epoch 213/300\n",
      "611/611 [==============================] - 1s 2ms/step - loss: 169215056.0000 - mse: 169215056.0000 - val_loss: 224283792.0000 - val_mse: 224283792.0000\n",
      "Epoch 214/300\n",
      "611/611 [==============================] - 1s 2ms/step - loss: 169235584.0000 - mse: 169235584.0000 - val_loss: 325687040.0000 - val_mse: 325687040.0000\n",
      "Epoch 215/300\n",
      "611/611 [==============================] - 1s 2ms/step - loss: 169230832.0000 - mse: 169230832.0000 - val_loss: 252840976.0000 - val_mse: 252840976.0000\n",
      "Epoch 216/300\n",
      "611/611 [==============================] - 1s 2ms/step - loss: 169022400.0000 - mse: 169022400.0000 - val_loss: 291331104.0000 - val_mse: 291331104.0000\n",
      "Epoch 217/300\n",
      "611/611 [==============================] - 1s 2ms/step - loss: 168903328.0000 - mse: 168903328.0000 - val_loss: 248456112.0000 - val_mse: 248456112.0000\n",
      "Epoch 218/300\n",
      "611/611 [==============================] - 1s 2ms/step - loss: 169127040.0000 - mse: 169127040.0000 - val_loss: 244788512.0000 - val_mse: 244788512.0000\n",
      "Epoch 219/300\n",
      "611/611 [==============================] - 1s 2ms/step - loss: 168792848.0000 - mse: 168792848.0000 - val_loss: 297494208.0000 - val_mse: 297494208.0000\n",
      "Epoch 220/300\n",
      "611/611 [==============================] - 1s 2ms/step - loss: 169174336.0000 - mse: 169174336.0000 - val_loss: 257125312.0000 - val_mse: 257125312.0000\n",
      "Epoch 221/300\n",
      "611/611 [==============================] - 1s 2ms/step - loss: 168978016.0000 - mse: 168978016.0000 - val_loss: 281888960.0000 - val_mse: 281888960.0000\n",
      "Epoch 222/300\n",
      "611/611 [==============================] - 1s 2ms/step - loss: 168673456.0000 - mse: 168673456.0000 - val_loss: 278289024.0000 - val_mse: 278289024.0000\n",
      "Epoch 223/300\n",
      "611/611 [==============================] - 1s 2ms/step - loss: 168923920.0000 - mse: 168923920.0000 - val_loss: 287424096.0000 - val_mse: 287424096.0000\n",
      "Epoch 224/300\n",
      "611/611 [==============================] - 1s 2ms/step - loss: 168379904.0000 - mse: 168379904.0000 - val_loss: 379749312.0000 - val_mse: 379749312.0000\n",
      "Epoch 225/300\n",
      "611/611 [==============================] - 1s 2ms/step - loss: 168367488.0000 - mse: 168367488.0000 - val_loss: 390347136.0000 - val_mse: 390347136.0000\n",
      "Epoch 226/300\n",
      "611/611 [==============================] - 1s 2ms/step - loss: 168470048.0000 - mse: 168470048.0000 - val_loss: 297803328.0000 - val_mse: 297803328.0000\n",
      "Epoch 227/300\n",
      "611/611 [==============================] - 1s 2ms/step - loss: 168556192.0000 - mse: 168556192.0000 - val_loss: 251133232.0000 - val_mse: 251133232.0000\n",
      "Epoch 228/300\n",
      "611/611 [==============================] - 1s 2ms/step - loss: 168295024.0000 - mse: 168295024.0000 - val_loss: 273067424.0000 - val_mse: 273067424.0000\n",
      "Epoch 229/300\n",
      "611/611 [==============================] - 1s 2ms/step - loss: 168203280.0000 - mse: 168203280.0000 - val_loss: 259506016.0000 - val_mse: 259506016.0000\n",
      "Epoch 230/300\n",
      "611/611 [==============================] - 1s 2ms/step - loss: 167912416.0000 - mse: 167912416.0000 - val_loss: 246643600.0000 - val_mse: 246643600.0000\n",
      "Epoch 231/300\n",
      "611/611 [==============================] - 1s 2ms/step - loss: 167984832.0000 - mse: 167984832.0000 - val_loss: 256680224.0000 - val_mse: 256680224.0000\n",
      "Epoch 232/300\n",
      "611/611 [==============================] - 1s 2ms/step - loss: 167886768.0000 - mse: 167886768.0000 - val_loss: 340601440.0000 - val_mse: 340601440.0000\n",
      "Epoch 233/300\n",
      "611/611 [==============================] - 1s 2ms/step - loss: 168019504.0000 - mse: 168019504.0000 - val_loss: 298758624.0000 - val_mse: 298758624.0000\n",
      "Epoch 234/300\n",
      "611/611 [==============================] - 1s 2ms/step - loss: 167931008.0000 - mse: 167931008.0000 - val_loss: 240240464.0000 - val_mse: 240240464.0000\n",
      "Epoch 235/300\n",
      "611/611 [==============================] - 1s 2ms/step - loss: 167904192.0000 - mse: 167904192.0000 - val_loss: 249451856.0000 - val_mse: 249451856.0000\n",
      "Epoch 236/300\n",
      "611/611 [==============================] - 1s 2ms/step - loss: 167802096.0000 - mse: 167802096.0000 - val_loss: 287570080.0000 - val_mse: 287570080.0000\n",
      "Epoch 237/300\n",
      "611/611 [==============================] - 1s 2ms/step - loss: 167545712.0000 - mse: 167545712.0000 - val_loss: 290604736.0000 - val_mse: 290604736.0000\n",
      "Epoch 238/300\n",
      "611/611 [==============================] - 1s 2ms/step - loss: 167407072.0000 - mse: 167407072.0000 - val_loss: 256813856.0000 - val_mse: 256813856.0000\n",
      "Epoch 239/300\n",
      "611/611 [==============================] - 1s 2ms/step - loss: 167601376.0000 - mse: 167601376.0000 - val_loss: 264809088.0000 - val_mse: 264809088.0000\n",
      "Epoch 240/300\n",
      "611/611 [==============================] - 1s 2ms/step - loss: 167431200.0000 - mse: 167431200.0000 - val_loss: 278806176.0000 - val_mse: 278806176.0000\n",
      "Epoch 241/300\n",
      "611/611 [==============================] - 1s 2ms/step - loss: 167208480.0000 - mse: 167208480.0000 - val_loss: 286044288.0000 - val_mse: 286044288.0000\n",
      "Epoch 242/300\n",
      "611/611 [==============================] - 1s 2ms/step - loss: 167110064.0000 - mse: 167110064.0000 - val_loss: 295423744.0000 - val_mse: 295423744.0000\n",
      "Epoch 243/300\n",
      "611/611 [==============================] - 1s 2ms/step - loss: 166919872.0000 - mse: 166919872.0000 - val_loss: 316190752.0000 - val_mse: 316190752.0000\n",
      "Epoch 244/300\n",
      "611/611 [==============================] - 1s 2ms/step - loss: 166896432.0000 - mse: 166896432.0000 - val_loss: 380836544.0000 - val_mse: 380836544.0000\n",
      "Epoch 245/300\n",
      "611/611 [==============================] - 1s 2ms/step - loss: 167080960.0000 - mse: 167080960.0000 - val_loss: 244295088.0000 - val_mse: 244295088.0000\n",
      "Epoch 246/300\n"
     ]
    },
    {
     "name": "stdout",
     "output_type": "stream",
     "text": [
      "611/611 [==============================] - 1s 2ms/step - loss: 166672000.0000 - mse: 166672000.0000 - val_loss: 280723072.0000 - val_mse: 280723072.0000\n",
      "Epoch 247/300\n",
      "611/611 [==============================] - 1s 2ms/step - loss: 166644208.0000 - mse: 166644208.0000 - val_loss: 248212240.0000 - val_mse: 248212240.0000\n",
      "Epoch 248/300\n",
      "611/611 [==============================] - 1s 2ms/step - loss: 166130736.0000 - mse: 166130736.0000 - val_loss: 370999904.0000 - val_mse: 370999904.0000\n",
      "Epoch 249/300\n",
      "611/611 [==============================] - 1s 2ms/step - loss: 166120208.0000 - mse: 166120208.0000 - val_loss: 260079520.0000 - val_mse: 260079520.0000\n",
      "Epoch 250/300\n",
      "611/611 [==============================] - 1s 2ms/step - loss: 166368224.0000 - mse: 166368224.0000 - val_loss: 227538816.0000 - val_mse: 227538816.0000\n",
      "Epoch 251/300\n",
      "611/611 [==============================] - 1s 2ms/step - loss: 165976800.0000 - mse: 165976800.0000 - val_loss: 284069440.0000 - val_mse: 284069440.0000\n",
      "Epoch 252/300\n",
      "611/611 [==============================] - 1s 2ms/step - loss: 165881904.0000 - mse: 165881904.0000 - val_loss: 378355232.0000 - val_mse: 378355232.0000\n",
      "Epoch 253/300\n",
      "611/611 [==============================] - 1s 2ms/step - loss: 165342528.0000 - mse: 165342528.0000 - val_loss: 304307808.0000 - val_mse: 304307808.0000\n",
      "Epoch 254/300\n",
      "611/611 [==============================] - 1s 2ms/step - loss: 165720416.0000 - mse: 165720416.0000 - val_loss: 289909792.0000 - val_mse: 289909792.0000\n",
      "Epoch 255/300\n",
      "611/611 [==============================] - 1s 2ms/step - loss: 165409200.0000 - mse: 165409200.0000 - val_loss: 278275296.0000 - val_mse: 278275296.0000\n",
      "Epoch 256/300\n",
      "611/611 [==============================] - 1s 2ms/step - loss: 165172288.0000 - mse: 165172288.0000 - val_loss: 294340512.0000 - val_mse: 294340512.0000\n",
      "Epoch 257/300\n",
      "611/611 [==============================] - 1s 2ms/step - loss: 164921088.0000 - mse: 164921088.0000 - val_loss: 315931936.0000 - val_mse: 315931936.0000\n",
      "Epoch 258/300\n",
      "611/611 [==============================] - 1s 2ms/step - loss: 164729984.0000 - mse: 164729984.0000 - val_loss: 323846208.0000 - val_mse: 323846208.0000\n",
      "Epoch 259/300\n",
      "611/611 [==============================] - 1s 2ms/step - loss: 164626912.0000 - mse: 164626912.0000 - val_loss: 248849456.0000 - val_mse: 248849456.0000\n",
      "Epoch 260/300\n",
      "611/611 [==============================] - 1s 2ms/step - loss: 164690000.0000 - mse: 164690000.0000 - val_loss: 277283872.0000 - val_mse: 277283872.0000\n",
      "Epoch 261/300\n",
      "611/611 [==============================] - 1s 2ms/step - loss: 164176496.0000 - mse: 164176496.0000 - val_loss: 242764272.0000 - val_mse: 242764272.0000\n",
      "Epoch 262/300\n",
      "611/611 [==============================] - 1s 2ms/step - loss: 164098128.0000 - mse: 164098128.0000 - val_loss: 287259936.0000 - val_mse: 287259936.0000\n",
      "Epoch 263/300\n",
      "611/611 [==============================] - 1s 2ms/step - loss: 163843952.0000 - mse: 163843952.0000 - val_loss: 273350688.0000 - val_mse: 273350688.0000\n",
      "Epoch 264/300\n",
      "611/611 [==============================] - 1s 2ms/step - loss: 163925216.0000 - mse: 163925216.0000 - val_loss: 258432256.0000 - val_mse: 258432256.0000\n",
      "Epoch 265/300\n",
      "611/611 [==============================] - 1s 2ms/step - loss: 163642880.0000 - mse: 163642880.0000 - val_loss: 327114272.0000 - val_mse: 327114272.0000\n",
      "Epoch 266/300\n",
      "611/611 [==============================] - 1s 2ms/step - loss: 163306096.0000 - mse: 163306096.0000 - val_loss: 253183952.0000 - val_mse: 253183952.0000\n",
      "Epoch 267/300\n",
      "611/611 [==============================] - 1s 2ms/step - loss: 163389616.0000 - mse: 163389616.0000 - val_loss: 240490560.0000 - val_mse: 240490560.0000\n",
      "Epoch 268/300\n",
      "611/611 [==============================] - 1s 2ms/step - loss: 163222128.0000 - mse: 163222128.0000 - val_loss: 352421184.0000 - val_mse: 352421184.0000\n",
      "Epoch 269/300\n",
      "611/611 [==============================] - 1s 2ms/step - loss: 163089648.0000 - mse: 163089648.0000 - val_loss: 326910176.0000 - val_mse: 326910176.0000\n",
      "Epoch 270/300\n",
      "611/611 [==============================] - 1s 2ms/step - loss: 162665264.0000 - mse: 162665264.0000 - val_loss: 225440736.0000 - val_mse: 225440736.0000\n",
      "Epoch 271/300\n",
      "611/611 [==============================] - 1s 2ms/step - loss: 162472192.0000 - mse: 162472192.0000 - val_loss: 251633648.0000 - val_mse: 251633648.0000\n",
      "Epoch 272/300\n",
      "611/611 [==============================] - 1s 2ms/step - loss: 162137440.0000 - mse: 162137440.0000 - val_loss: 289831808.0000 - val_mse: 289831808.0000\n",
      "Epoch 273/300\n",
      "611/611 [==============================] - 1s 2ms/step - loss: 162590960.0000 - mse: 162590960.0000 - val_loss: 258725088.0000 - val_mse: 258725088.0000\n",
      "Epoch 274/300\n",
      "611/611 [==============================] - 1s 2ms/step - loss: 162144768.0000 - mse: 162144768.0000 - val_loss: 313403424.0000 - val_mse: 313403424.0000\n",
      "Epoch 275/300\n",
      "611/611 [==============================] - 1s 2ms/step - loss: 162154128.0000 - mse: 162154128.0000 - val_loss: 308761152.0000 - val_mse: 308761152.0000\n",
      "Epoch 276/300\n",
      "611/611 [==============================] - 1s 2ms/step - loss: 162050160.0000 - mse: 162050160.0000 - val_loss: 269764416.0000 - val_mse: 269764416.0000\n",
      "Epoch 277/300\n",
      "611/611 [==============================] - 1s 2ms/step - loss: 161543760.0000 - mse: 161543760.0000 - val_loss: 227046784.0000 - val_mse: 227046784.0000\n",
      "Epoch 278/300\n",
      "611/611 [==============================] - 1s 2ms/step - loss: 161380288.0000 - mse: 161380288.0000 - val_loss: 325580736.0000 - val_mse: 325580736.0000\n",
      "Epoch 279/300\n",
      "611/611 [==============================] - 1s 2ms/step - loss: 161428720.0000 - mse: 161428720.0000 - val_loss: 250830496.0000 - val_mse: 250830496.0000\n",
      "Epoch 280/300\n",
      "611/611 [==============================] - 1s 2ms/step - loss: 161260032.0000 - mse: 161260032.0000 - val_loss: 239391104.0000 - val_mse: 239391104.0000\n",
      "Epoch 281/300\n",
      "611/611 [==============================] - 1s 2ms/step - loss: 161062256.0000 - mse: 161062256.0000 - val_loss: 283729408.0000 - val_mse: 283729408.0000\n",
      "Epoch 282/300\n",
      "611/611 [==============================] - 1s 2ms/step - loss: 160922576.0000 - mse: 160922576.0000 - val_loss: 244500224.0000 - val_mse: 244500224.0000\n",
      "Epoch 283/300\n",
      "611/611 [==============================] - 1s 2ms/step - loss: 160651424.0000 - mse: 160651424.0000 - val_loss: 227156304.0000 - val_mse: 227156304.0000\n",
      "Epoch 284/300\n",
      "611/611 [==============================] - 1s 2ms/step - loss: 160872592.0000 - mse: 160872592.0000 - val_loss: 270121344.0000 - val_mse: 270121344.0000\n",
      "Epoch 285/300\n",
      "611/611 [==============================] - 1s 2ms/step - loss: 160924944.0000 - mse: 160924944.0000 - val_loss: 345450560.0000 - val_mse: 345450560.0000\n",
      "Epoch 286/300\n",
      "611/611 [==============================] - 1s 2ms/step - loss: 160475392.0000 - mse: 160475392.0000 - val_loss: 332698560.0000 - val_mse: 332698560.0000\n",
      "Epoch 287/300\n",
      "611/611 [==============================] - 1s 2ms/step - loss: 160489008.0000 - mse: 160489008.0000 - val_loss: 339397408.0000 - val_mse: 339397408.0000\n",
      "Epoch 288/300\n",
      "611/611 [==============================] - 1s 2ms/step - loss: 160128560.0000 - mse: 160128560.0000 - val_loss: 273986272.0000 - val_mse: 273986272.0000\n",
      "Epoch 289/300\n",
      "611/611 [==============================] - 1s 2ms/step - loss: 160627648.0000 - mse: 160627648.0000 - val_loss: 296985472.0000 - val_mse: 296985472.0000\n",
      "Epoch 290/300\n",
      "611/611 [==============================] - 1s 2ms/step - loss: 160198992.0000 - mse: 160198992.0000 - val_loss: 247928336.0000 - val_mse: 247928336.0000\n",
      "Epoch 291/300\n",
      "611/611 [==============================] - 1s 2ms/step - loss: 159806656.0000 - mse: 159806656.0000 - val_loss: 267566208.0000 - val_mse: 267566208.0000\n",
      "Epoch 292/300\n",
      "611/611 [==============================] - 1s 2ms/step - loss: 160125584.0000 - mse: 160125584.0000 - val_loss: 260194608.0000 - val_mse: 260194608.0000\n",
      "Epoch 293/300\n",
      "611/611 [==============================] - 1s 2ms/step - loss: 160045296.0000 - mse: 160045296.0000 - val_loss: 274747840.0000 - val_mse: 274747840.0000\n",
      "Epoch 294/300\n",
      "611/611 [==============================] - 1s 2ms/step - loss: 159676032.0000 - mse: 159676032.0000 - val_loss: 257467024.0000 - val_mse: 257467024.0000\n",
      "Epoch 295/300\n"
     ]
    },
    {
     "name": "stdout",
     "output_type": "stream",
     "text": [
      "611/611 [==============================] - 1s 2ms/step - loss: 159466576.0000 - mse: 159466576.0000 - val_loss: 232132048.0000 - val_mse: 232132048.0000\n",
      "Epoch 296/300\n",
      "611/611 [==============================] - 1s 2ms/step - loss: 159631088.0000 - mse: 159631088.0000 - val_loss: 372002592.0000 - val_mse: 372002592.0000\n",
      "Epoch 297/300\n",
      "611/611 [==============================] - 1s 2ms/step - loss: 159647056.0000 - mse: 159647056.0000 - val_loss: 260414768.0000 - val_mse: 260414768.0000\n",
      "Epoch 298/300\n",
      "611/611 [==============================] - 1s 2ms/step - loss: 159547392.0000 - mse: 159547392.0000 - val_loss: 243485792.0000 - val_mse: 243485792.0000\n",
      "Epoch 299/300\n",
      "611/611 [==============================] - 1s 2ms/step - loss: 159081296.0000 - mse: 159081296.0000 - val_loss: 244241280.0000 - val_mse: 244241280.0000\n",
      "Epoch 300/300\n",
      "611/611 [==============================] - 1s 2ms/step - loss: 159098272.0000 - mse: 159098272.0000 - val_loss: 265618416.0000 - val_mse: 265618416.0000\n"
     ]
    }
   ],
   "source": [
    "history = model.fit(train_tune_cbe, train_tune_y, epochs=300, validation_data = (val_cbe, val_y), batch_size = 512)"
   ]
  },
  {
   "cell_type": "code",
   "execution_count": 24,
   "metadata": {},
   "outputs": [
    {
     "data": {
      "text/plain": [
       "[<matplotlib.lines.Line2D at 0x2613fa10580>]"
      ]
     },
     "execution_count": 24,
     "metadata": {},
     "output_type": "execute_result"
    },
    {
     "data": {
      "image/png": "[encoded data removed]",
      "text/plain": [
       "<Figure size 432x288 with 1 Axes>"
      ]
     },
     "metadata": {
      "needs_background": "light"
     },
     "output_type": "display_data"
    }
   ],
   "source": [
    "val_loss = history.history['val_mse']\n",
    "loss = history.history['mse']\n",
    "epochs = 300\n",
    "\n",
    "fig = plt.figure()\n",
    "ax_acc = fig.add_subplot(111)\n",
    "ax_acc.plot(range(epochs), val_loss, label='val_loss', color='darkred')\n",
    "\n",
    "plt.xlabel('epochs')\n",
    "plt.ylabel('loss')\n",
    "ax_acc.plot(range(epochs), loss, label='loss', color='darkblue')"
   ]
  },
  {
   "cell_type": "markdown",
   "metadata": {},
   "source": [
    "### 2.3 어떤문제가 발생했는지 설명해주세요.\n",
    "\n",
    "- 꼭 써주세요.\n",
    "\n",
    "힌트\n",
    "\n",
    "- 이전에 lgbm 같은 경우 validation mse가 $1.2 * 10^8$ 이였습니다."
   ]
  },
  {
   "cell_type": "markdown",
   "metadata": {},
   "source": [
    "### 2.4 더 좋은 성능의 딥러닝 모델을 위해\n",
    "\n",
    "- test set에 대해 딥러닝 모형의 성능을 평가하세요.\n",
    "- dense 조절, batch_size 조절, regularization, dropout, batch normalization 등의 방법을 활용해 최고의 성능을 얻어보세요.\n",
    "- 만약 성능의 향상이 어렵다면, 다양한 방법들을 시도하는 것을 목표로 해주세요!"
   ]
  },
  {
   "cell_type": "code",
   "execution_count": 30,
   "metadata": {},
   "outputs": [],
   "source": [
    "feature_list = list(train_x.columns)\n",
    "\n",
    "CBE_encoder = CatBoostEncoder()\n",
    "train_cbe = CBE_encoder.fit_transform(train_x[feature_list], train_y)\n",
    "test_cbe = CBE_encoder.transform(test_x[feature_list])"
   ]
  },
  {
   "cell_type": "code",
   "execution_count": 31,
   "metadata": {},
   "outputs": [],
   "source": [
    "def build_model():\n",
    "  model = keras.Sequential([\n",
    "    layers.Dense(256, activation='relu', input_shape=[len(train_tune_cbe.keys())]),\n",
    "    layers.BatchNormalization(),\n",
    "    layers.Dense(64, activation='relu'),\n",
    "    layers.Dense(32, activation='relu'),\n",
    "    layers.Dense(1)\n",
    "  ])\n",
    "\n",
    "  optimizer = tf.keras.optimizers.RMSprop(0.0001)\n",
    "\n",
    "  model.compile(loss='mse',\n",
    "                optimizer=optimizer,\n",
    "                metrics=['mse'])\n",
    "  return model\n",
    "\n",
    "model = build_model()"
   ]
  },
  {
   "cell_type": "code",
   "execution_count": 32,
   "metadata": {},
   "outputs": [
    {
     "name": "stdout",
     "output_type": "stream",
     "text": [
      "Epoch 1/100\n",
      "306/306 [==============================] - 2s 8ms/step - loss: 3073494272.0000 - mse: 3073494272.0000 - val_loss: 4164990208.0000 - val_mse: 4164990208.0000\n",
      "Epoch 2/100\n",
      "306/306 [==============================] - 2s 7ms/step - loss: 3066188800.0000 - mse: 3066188800.0000 - val_loss: 4150037248.0000 - val_mse: 4150037248.0000\n",
      "Epoch 3/100\n",
      "306/306 [==============================] - 2s 7ms/step - loss: 3049432064.0000 - mse: 3049432064.0000 - val_loss: 4120738560.0000 - val_mse: 4120738560.0000\n",
      "Epoch 4/100\n",
      "306/306 [==============================] - 2s 7ms/step - loss: 3019462400.0000 - mse: 3019462400.0000 - val_loss: 4074000640.0000 - val_mse: 4074000640.0000\n",
      "Epoch 5/100\n",
      "306/306 [==============================] - 2s 7ms/step - loss: 2972408064.0000 - mse: 2972408064.0000 - val_loss: 4003595520.0000 - val_mse: 4003595520.0000\n",
      "Epoch 6/100\n",
      "306/306 [==============================] - 2s 7ms/step - loss: 2904361728.0000 - mse: 2904361728.0000 - val_loss: 3903259648.0000 - val_mse: 3903259648.0000\n",
      "Epoch 7/100\n",
      "306/306 [==============================] - 2s 8ms/step - loss: 2811419392.0000 - mse: 2811419392.0000 - val_loss: 3769576448.0000 - val_mse: 3769576448.0000\n",
      "Epoch 8/100\n",
      "306/306 [==============================] - 2s 8ms/step - loss: 2689800704.0000 - mse: 2689800704.0000 - val_loss: 3610962176.0000 - val_mse: 3610962176.0000\n",
      "Epoch 9/100\n",
      "306/306 [==============================] - 2s 7ms/step - loss: 2536759808.0000 - mse: 2536759808.0000 - val_loss: 3395142656.0000 - val_mse: 3395142656.0000\n",
      "Epoch 10/100\n",
      "306/306 [==============================] - 2s 7ms/step - loss: 2350744064.0000 - mse: 2350744064.0000 - val_loss: 3159637760.0000 - val_mse: 3159637760.0000\n",
      "Epoch 11/100\n",
      "306/306 [==============================] - 2s 8ms/step - loss: 2131776128.0000 - mse: 2131776128.0000 - val_loss: 2839492096.0000 - val_mse: 2839492096.0000\n",
      "Epoch 12/100\n",
      "306/306 [==============================] - 2s 7ms/step - loss: 1882053504.0000 - mse: 1882053504.0000 - val_loss: 2595401216.0000 - val_mse: 2595401216.0000\n",
      "Epoch 13/100\n",
      "306/306 [==============================] - 3s 8ms/step - loss: 1608237952.0000 - mse: 1608237952.0000 - val_loss: 2251787008.0000 - val_mse: 2251787008.0000\n",
      "Epoch 14/100\n",
      "306/306 [==============================] - 2s 8ms/step - loss: 1320503424.0000 - mse: 1320503424.0000 - val_loss: 1814440448.0000 - val_mse: 1814440448.0000\n",
      "Epoch 15/100\n",
      "306/306 [==============================] - 3s 8ms/step - loss: 1035149824.0000 - mse: 1035149824.0000 - val_loss: 1622891264.0000 - val_mse: 1622891264.0000\n",
      "Epoch 16/100\n",
      "306/306 [==============================] - 3s 8ms/step - loss: 771311424.0000 - mse: 771311424.0000 - val_loss: 1051142720.0000 - val_mse: 1051142720.0000\n",
      "Epoch 17/100\n",
      "306/306 [==============================] - 2s 8ms/step - loss: 545875456.0000 - mse: 545875456.0000 - val_loss: 537506752.0000 - val_mse: 537506752.0000\n",
      "Epoch 18/100\n",
      "306/306 [==============================] - 2s 8ms/step - loss: 371799680.0000 - mse: 371799680.0000 - val_loss: 737008576.0000 - val_mse: 737008576.0000\n",
      "Epoch 19/100\n",
      "306/306 [==============================] - 2s 8ms/step - loss: 255674608.0000 - mse: 255674608.0000 - val_loss: 752074688.0000 - val_mse: 752074688.0000\n",
      "Epoch 20/100\n",
      "306/306 [==============================] - 2s 8ms/step - loss: 196088464.0000 - mse: 196088464.0000 - val_loss: 562217024.0000 - val_mse: 562217024.0000\n",
      "Epoch 21/100\n",
      "306/306 [==============================] - 2s 8ms/step - loss: 169292768.0000 - mse: 169292768.0000 - val_loss: 317932544.0000 - val_mse: 317932544.0000\n",
      "Epoch 22/100\n",
      "306/306 [==============================] - 2s 8ms/step - loss: 157637104.0000 - mse: 157637104.0000 - val_loss: 221618656.0000 - val_mse: 221618656.0000\n",
      "Epoch 23/100\n",
      "306/306 [==============================] - 2s 8ms/step - loss: 150140400.0000 - mse: 150140400.0000 - val_loss: 301272672.0000 - val_mse: 301272672.0000\n",
      "Epoch 24/100\n",
      "306/306 [==============================] - 2s 8ms/step - loss: 144523456.0000 - mse: 144523456.0000 - val_loss: 244201088.0000 - val_mse: 244201088.0000\n",
      "Epoch 25/100\n",
      "306/306 [==============================] - 2s 8ms/step - loss: 142239200.0000 - mse: 142239200.0000 - val_loss: 193434288.0000 - val_mse: 193434288.0000\n",
      "Epoch 26/100\n",
      "306/306 [==============================] - 2s 8ms/step - loss: 139731248.0000 - mse: 139731248.0000 - val_loss: 207252640.0000 - val_mse: 207252640.0000\n",
      "Epoch 27/100\n",
      "306/306 [==============================] - 2s 8ms/step - loss: 139108128.0000 - mse: 139108128.0000 - val_loss: 201246592.0000 - val_mse: 201246592.0000\n",
      "Epoch 28/100\n",
      "306/306 [==============================] - 2s 8ms/step - loss: 136996800.0000 - mse: 136996800.0000 - val_loss: 541931840.0000 - val_mse: 541931840.0000\n",
      "Epoch 29/100\n",
      "306/306 [==============================] - 2s 8ms/step - loss: 136809888.0000 - mse: 136809888.0000 - val_loss: 362661632.0000 - val_mse: 362661632.0000\n",
      "Epoch 30/100\n",
      "306/306 [==============================] - 2s 8ms/step - loss: 134176784.0000 - mse: 134176784.0000 - val_loss: 197814016.0000 - val_mse: 197814016.0000\n",
      "Epoch 31/100\n",
      "306/306 [==============================] - 2s 8ms/step - loss: 134755024.0000 - mse: 134755024.0000 - val_loss: 382491104.0000 - val_mse: 382491104.0000\n",
      "Epoch 32/100\n",
      "306/306 [==============================] - 2s 8ms/step - loss: 134459168.0000 - mse: 134459168.0000 - val_loss: 215036288.0000 - val_mse: 215036288.0000\n",
      "Epoch 33/100\n",
      "306/306 [==============================] - 2s 8ms/step - loss: 133636432.0000 - mse: 133636432.0000 - val_loss: 233743184.0000 - val_mse: 233743184.0000\n",
      "Epoch 34/100\n",
      "306/306 [==============================] - 2s 8ms/step - loss: 132056120.0000 - mse: 132056120.0000 - val_loss: 306758496.0000 - val_mse: 306758496.0000\n",
      "Epoch 35/100\n",
      "306/306 [==============================] - 2s 8ms/step - loss: 132396384.0000 - mse: 132396384.0000 - val_loss: 364909088.0000 - val_mse: 364909088.0000\n",
      "Epoch 36/100\n",
      "306/306 [==============================] - 2s 8ms/step - loss: 131879304.0000 - mse: 131879304.0000 - val_loss: 267603488.0000 - val_mse: 267603488.0000\n",
      "Epoch 37/100\n",
      "306/306 [==============================] - 2s 8ms/step - loss: 131878448.0000 - mse: 131878448.0000 - val_loss: 291392704.0000 - val_mse: 291392704.0000\n",
      "Epoch 38/100\n",
      "306/306 [==============================] - 2s 8ms/step - loss: 132062896.0000 - mse: 132062896.0000 - val_loss: 237390640.0000 - val_mse: 237390640.0000\n",
      "Epoch 39/100\n",
      "306/306 [==============================] - 2s 8ms/step - loss: 131679680.0000 - mse: 131679680.0000 - val_loss: 201889696.0000 - val_mse: 201889696.0000\n",
      "Epoch 40/100\n",
      "306/306 [==============================] - 2s 8ms/step - loss: 131878592.0000 - mse: 131878592.0000 - val_loss: 305619296.0000 - val_mse: 305619296.0000\n",
      "Epoch 41/100\n",
      "306/306 [==============================] - 2s 8ms/step - loss: 131088856.0000 - mse: 131088856.0000 - val_loss: 184798896.0000 - val_mse: 184798896.0000\n",
      "Epoch 42/100\n",
      "306/306 [==============================] - 2s 8ms/step - loss: 130724360.0000 - mse: 130724360.0000 - val_loss: 222976208.0000 - val_mse: 222976208.0000\n",
      "Epoch 43/100\n",
      "306/306 [==============================] - 2s 8ms/step - loss: 130296624.0000 - mse: 130296624.0000 - val_loss: 303814496.0000 - val_mse: 303814496.0000\n",
      "Epoch 44/100\n",
      "306/306 [==============================] - 3s 8ms/step - loss: 130257152.0000 - mse: 130257152.0000 - val_loss: 494498592.0000 - val_mse: 494498592.0000\n",
      "Epoch 45/100\n",
      "306/306 [==============================] - 3s 8ms/step - loss: 130026536.0000 - mse: 130026536.0000 - val_loss: 287911456.0000 - val_mse: 287911456.0000\n",
      "Epoch 46/100\n",
      "306/306 [==============================] - 2s 8ms/step - loss: 129722008.0000 - mse: 129722008.0000 - val_loss: 273959200.0000 - val_mse: 273959200.0000\n",
      "Epoch 47/100\n",
      "306/306 [==============================] - 3s 8ms/step - loss: 130171352.0000 - mse: 130171352.0000 - val_loss: 289513760.0000 - val_mse: 289513760.0000\n",
      "Epoch 48/100\n",
      "306/306 [==============================] - 3s 9ms/step - loss: 129851832.0000 - mse: 129851832.0000 - val_loss: 351250688.0000 - val_mse: 351250688.0000\n",
      "Epoch 49/100\n",
      "306/306 [==============================] - 3s 8ms/step - loss: 129333656.0000 - mse: 129333656.0000 - val_loss: 379186112.0000 - val_mse: 379186112.0000\n",
      "Epoch 50/100\n"
     ]
    },
    {
     "name": "stdout",
     "output_type": "stream",
     "text": [
      "306/306 [==============================] - 2s 8ms/step - loss: 130311296.0000 - mse: 130311296.0000 - val_loss: 259315904.0000 - val_mse: 259315904.0000\n",
      "Epoch 51/100\n",
      "306/306 [==============================] - 2s 8ms/step - loss: 128425912.0000 - mse: 128425912.0000 - val_loss: 231304640.0000 - val_mse: 231304640.0000\n",
      "Epoch 52/100\n",
      "306/306 [==============================] - 2s 8ms/step - loss: 129203856.0000 - mse: 129203856.0000 - val_loss: 284529056.0000 - val_mse: 284529056.0000\n",
      "Epoch 53/100\n",
      "306/306 [==============================] - 2s 8ms/step - loss: 130098864.0000 - mse: 130098864.0000 - val_loss: 318256256.0000 - val_mse: 318256256.0000\n",
      "Epoch 54/100\n",
      "306/306 [==============================] - 2s 8ms/step - loss: 130028928.0000 - mse: 130028928.0000 - val_loss: 184831200.0000 - val_mse: 184831200.0000\n",
      "Epoch 55/100\n",
      "306/306 [==============================] - 3s 8ms/step - loss: 128780888.0000 - mse: 128780888.0000 - val_loss: 277167808.0000 - val_mse: 277167808.0000\n",
      "Epoch 56/100\n",
      "306/306 [==============================] - 2s 8ms/step - loss: 129216792.0000 - mse: 129216792.0000 - val_loss: 350292992.0000 - val_mse: 350292992.0000\n",
      "Epoch 57/100\n",
      "306/306 [==============================] - 2s 8ms/step - loss: 129510672.0000 - mse: 129510672.0000 - val_loss: 187840496.0000 - val_mse: 187840496.0000\n",
      "Epoch 58/100\n",
      "306/306 [==============================] - 2s 8ms/step - loss: 128948304.0000 - mse: 128948304.0000 - val_loss: 184216528.0000 - val_mse: 184216528.0000\n",
      "Epoch 59/100\n",
      "306/306 [==============================] - 3s 8ms/step - loss: 128754992.0000 - mse: 128754992.0000 - val_loss: 298851936.0000 - val_mse: 298851936.0000\n",
      "Epoch 60/100\n",
      "306/306 [==============================] - 2s 8ms/step - loss: 128539040.0000 - mse: 128539040.0000 - val_loss: 395904832.0000 - val_mse: 395904832.0000\n",
      "Epoch 61/100\n",
      "306/306 [==============================] - 2s 8ms/step - loss: 128929456.0000 - mse: 128929456.0000 - val_loss: 287917216.0000 - val_mse: 287917216.0000\n",
      "Epoch 62/100\n",
      "306/306 [==============================] - 2s 8ms/step - loss: 129303104.0000 - mse: 129303104.0000 - val_loss: 322420160.0000 - val_mse: 322420160.0000\n",
      "Epoch 63/100\n",
      "306/306 [==============================] - 2s 8ms/step - loss: 128241840.0000 - mse: 128241840.0000 - val_loss: 294158272.0000 - val_mse: 294158272.0000\n",
      "Epoch 64/100\n",
      "306/306 [==============================] - 3s 8ms/step - loss: 128132640.0000 - mse: 128132640.0000 - val_loss: 191932960.0000 - val_mse: 191932960.0000\n",
      "Epoch 65/100\n",
      "306/306 [==============================] - 3s 9ms/step - loss: 128167704.0000 - mse: 128167704.0000 - val_loss: 393717888.0000 - val_mse: 393717888.0000\n",
      "Epoch 66/100\n",
      "306/306 [==============================] - 3s 8ms/step - loss: 128299736.0000 - mse: 128299736.0000 - val_loss: 215502320.0000 - val_mse: 215502320.0000\n",
      "Epoch 67/100\n",
      "306/306 [==============================] - 3s 8ms/step - loss: 127447288.0000 - mse: 127447288.0000 - val_loss: 431921920.0000 - val_mse: 431921920.0000\n",
      "Epoch 68/100\n",
      "306/306 [==============================] - 2s 8ms/step - loss: 128023272.0000 - mse: 128023272.0000 - val_loss: 202339648.0000 - val_mse: 202339648.0000\n",
      "Epoch 69/100\n",
      "306/306 [==============================] - 2s 8ms/step - loss: 127423784.0000 - mse: 127423784.0000 - val_loss: 209262800.0000 - val_mse: 209262800.0000\n",
      "Epoch 70/100\n",
      "306/306 [==============================] - 3s 9ms/step - loss: 127501480.0000 - mse: 127501480.0000 - val_loss: 340802656.0000 - val_mse: 340802656.0000\n",
      "Epoch 71/100\n",
      "306/306 [==============================] - 3s 9ms/step - loss: 126984272.0000 - mse: 126984272.0000 - val_loss: 180148752.0000 - val_mse: 180148752.0000\n",
      "Epoch 72/100\n",
      "306/306 [==============================] - 3s 9ms/step - loss: 126309472.0000 - mse: 126309472.0000 - val_loss: 185064768.0000 - val_mse: 185064768.0000\n",
      "Epoch 73/100\n",
      "306/306 [==============================] - 2s 8ms/step - loss: 125676032.0000 - mse: 125676032.0000 - val_loss: 187449552.0000 - val_mse: 187449552.0000\n",
      "Epoch 74/100\n",
      "306/306 [==============================] - 3s 9ms/step - loss: 126087112.0000 - mse: 126087112.0000 - val_loss: 238190208.0000 - val_mse: 238190208.0000\n",
      "Epoch 75/100\n",
      "306/306 [==============================] - 3s 8ms/step - loss: 126484896.0000 - mse: 126484896.0000 - val_loss: 539884736.0000 - val_mse: 539884736.0000\n",
      "Epoch 76/100\n",
      "306/306 [==============================] - 3s 8ms/step - loss: 126759256.0000 - mse: 126759256.0000 - val_loss: 269570016.0000 - val_mse: 269570016.0000\n",
      "Epoch 77/100\n",
      "306/306 [==============================] - 2s 8ms/step - loss: 126501624.0000 - mse: 126501624.0000 - val_loss: 288766848.0000 - val_mse: 288766848.0000\n",
      "Epoch 78/100\n",
      "306/306 [==============================] - 2s 8ms/step - loss: 126173080.0000 - mse: 126173080.0000 - val_loss: 184396880.0000 - val_mse: 184396880.0000\n",
      "Epoch 79/100\n",
      "306/306 [==============================] - 2s 8ms/step - loss: 125767832.0000 - mse: 125767832.0000 - val_loss: 243135344.0000 - val_mse: 243135344.0000\n",
      "Epoch 80/100\n",
      "306/306 [==============================] - 2s 8ms/step - loss: 125869096.0000 - mse: 125869096.0000 - val_loss: 210406864.0000 - val_mse: 210406864.0000\n",
      "Epoch 81/100\n",
      "306/306 [==============================] - 2s 8ms/step - loss: 126939568.0000 - mse: 126939568.0000 - val_loss: 224771216.0000 - val_mse: 224771216.0000\n",
      "Epoch 82/100\n",
      "306/306 [==============================] - 2s 8ms/step - loss: 125772584.0000 - mse: 125772584.0000 - val_loss: 183610240.0000 - val_mse: 183610240.0000\n",
      "Epoch 83/100\n",
      "306/306 [==============================] - 2s 8ms/step - loss: 125509080.0000 - mse: 125509080.0000 - val_loss: 183352528.0000 - val_mse: 183352528.0000\n",
      "Epoch 84/100\n",
      "306/306 [==============================] - 2s 8ms/step - loss: 125551072.0000 - mse: 125551072.0000 - val_loss: 201829424.0000 - val_mse: 201829424.0000\n",
      "Epoch 85/100\n",
      "306/306 [==============================] - 2s 8ms/step - loss: 125321000.0000 - mse: 125321000.0000 - val_loss: 188460688.0000 - val_mse: 188460688.0000\n",
      "Epoch 86/100\n",
      "306/306 [==============================] - 2s 8ms/step - loss: 125461808.0000 - mse: 125461808.0000 - val_loss: 368357920.0000 - val_mse: 368357920.0000\n",
      "Epoch 87/100\n",
      "306/306 [==============================] - 2s 8ms/step - loss: 125388824.0000 - mse: 125388824.0000 - val_loss: 277339200.0000 - val_mse: 277339200.0000\n",
      "Epoch 88/100\n",
      "306/306 [==============================] - 2s 8ms/step - loss: 124714176.0000 - mse: 124714176.0000 - val_loss: 209811664.0000 - val_mse: 209811664.0000\n",
      "Epoch 89/100\n",
      "306/306 [==============================] - 3s 8ms/step - loss: 124592720.0000 - mse: 124592720.0000 - val_loss: 220876480.0000 - val_mse: 220876480.0000\n",
      "Epoch 90/100\n",
      "306/306 [==============================] - 3s 8ms/step - loss: 124845384.0000 - mse: 124845384.0000 - val_loss: 202730320.0000 - val_mse: 202730320.0000\n",
      "Epoch 91/100\n",
      "306/306 [==============================] - 2s 8ms/step - loss: 124964128.0000 - mse: 124964128.0000 - val_loss: 305256448.0000 - val_mse: 305256448.0000\n",
      "Epoch 92/100\n",
      "306/306 [==============================] - 2s 8ms/step - loss: 124851288.0000 - mse: 124851288.0000 - val_loss: 188998784.0000 - val_mse: 188998784.0000\n",
      "Epoch 93/100\n",
      "306/306 [==============================] - 3s 8ms/step - loss: 124187632.0000 - mse: 124187632.0000 - val_loss: 330240128.0000 - val_mse: 330240128.0000\n",
      "Epoch 94/100\n",
      "306/306 [==============================] - 3s 9ms/step - loss: 124279504.0000 - mse: 124279504.0000 - val_loss: 194486240.0000 - val_mse: 194486240.0000\n",
      "Epoch 95/100\n",
      "306/306 [==============================] - 3s 9ms/step - loss: 123856808.0000 - mse: 123856808.0000 - val_loss: 229627232.0000 - val_mse: 229627232.0000\n",
      "Epoch 96/100\n",
      "306/306 [==============================] - 2s 8ms/step - loss: 124201232.0000 - mse: 124201232.0000 - val_loss: 218249872.0000 - val_mse: 218249872.0000\n",
      "Epoch 97/100\n",
      "306/306 [==============================] - 2s 8ms/step - loss: 123990208.0000 - mse: 123990208.0000 - val_loss: 333306880.0000 - val_mse: 333306880.0000\n",
      "Epoch 98/100\n",
      "306/306 [==============================] - 2s 8ms/step - loss: 123859344.0000 - mse: 123859344.0000 - val_loss: 180010160.0000 - val_mse: 180010160.0000\n",
      "Epoch 99/100\n"
     ]
    },
    {
     "name": "stdout",
     "output_type": "stream",
     "text": [
      "306/306 [==============================] - 2s 8ms/step - loss: 124069848.0000 - mse: 124069848.0000 - val_loss: 302773472.0000 - val_mse: 302773472.0000\n",
      "Epoch 100/100\n",
      "306/306 [==============================] - 2s 8ms/step - loss: 124323248.0000 - mse: 124323248.0000 - val_loss: 364590528.0000 - val_mse: 364590528.0000\n"
     ]
    }
   ],
   "source": [
    "history = model.fit(train_tune_cbe, train_tune_y, epochs=100, validation_data = (val_cbe, val_y), batch_size = 1024)"
   ]
  },
  {
   "cell_type": "code",
   "execution_count": 33,
   "metadata": {},
   "outputs": [
    {
     "data": {
      "text/plain": [
       "[<matplotlib.lines.Line2D at 0x2613967d250>]"
      ]
     },
     "execution_count": 33,
     "metadata": {},
     "output_type": "execute_result"
    },
    {
     "data": {
      "image/png": "[encoded data removed]",
      "text/plain": [
       "<Figure size 432x288 with 1 Axes>"
      ]
     },
     "metadata": {
      "needs_background": "light"
     },
     "output_type": "display_data"
    }
   ],
   "source": [
    "val_loss = history.history['val_mse']\n",
    "loss = history.history['mse']\n",
    "epochs = 100\n",
    "\n",
    "fig = plt.figure()\n",
    "ax_acc = fig.add_subplot(111)\n",
    "ax_acc.plot(range(epochs), val_loss, label='val_loss', color='darkred')\n",
    "\n",
    "plt.xlabel('epochs')\n",
    "plt.ylabel('loss')\n",
    "ax_acc.plot(range(epochs), loss, label='loss', color='darkblue')"
   ]
  }
 ],
 "metadata": {
  "kernelspec": {
   "display_name": "Python 3",
   "language": "python",
   "name": "python3"
  },
  "language_info": {
   "codemirror_mode": {
    "name": "ipython",
    "version": 3
   },
   "file_extension": ".py",
   "mimetype": "text/x-python",
   "name": "python",
   "nbconvert_exporter": "python",
   "pygments_lexer": "ipython3",
   "version": "3.8.8"
  }
 },
 "nbformat": 4,
 "nbformat_minor": 4
}
